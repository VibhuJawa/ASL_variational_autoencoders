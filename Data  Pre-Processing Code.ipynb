{
 "cells": [
  {
   "cell_type": "code",
   "execution_count": 17,
   "metadata": {
    "collapsed": true
   },
   "outputs": [],
   "source": [
    "import os\n",
    "import PIL\n",
    "from PIL import Image\n",
    "import glob\n",
    "import numpy as np\n"
   ]
  },
  {
   "cell_type": "markdown",
   "metadata": {},
   "source": [
    "## Data Directories , ensure that you have extracted the data in data/asl-alphabet"
   ]
  },
  {
   "cell_type": "code",
   "execution_count": 43,
   "metadata": {
    "collapsed": true
   },
   "outputs": [],
   "source": [
    "data_dir = \"data/asl-alphabet\"\n",
    "train_dir = os.path.join(data_dir,'asl_alphabet_train')\n",
    "test_dir = os.path.join(data_dir,'asl_alphabet_test')\n",
    "\n",
    "target_train_dir = os.path.join(data_dir,'asl_alphabet_train_compressed')\n",
    "target_test_dir = os.path.join(data_dir,'asl_alphabet_test_compressed')"
   ]
  },
  {
   "cell_type": "markdown",
   "metadata": {},
   "source": [
    "## Data  Pre-Processing Code "
   ]
  },
  {
   "cell_type": "markdown",
   "metadata": {},
   "source": [
    "# Train"
   ]
  },
  {
   "cell_type": "code",
   "execution_count": 44,
   "metadata": {},
   "outputs": [],
   "source": [
    "data_dirs = os.listdir(train_dir)\n",
    "if '.DS_Store' in data_dirs:\n",
    "    data_dirs.remove('.DS_Store')"
   ]
  },
  {
   "cell_type": "code",
   "execution_count": 45,
   "metadata": {},
   "outputs": [],
   "source": [
    "for label in data_dirs:\n",
    "    source_path = os.path.join(train_dir,label)\n",
    "    label_images = os.listdir(source_path)\n",
    "    dest_path = os.path.join(target_train_dir,label)\n",
    "    for image_id in label_images:\n",
    "        image_path = os.path.join(source_path,image_id)\n",
    "        img=Image.open(image_path)\n",
    "        img = img.resize((28, 28))\n",
    "        img = img.convert(mode = 'L')\n",
    "        if not os.path.exists(dest_path):\n",
    "            os.makedirs(dest_path)\n",
    "        img.save(os.path.join(dest_path,image_id))"
   ]
  },
  {
   "cell_type": "markdown",
   "metadata": {},
   "source": [
    "# Test Compression"
   ]
  },
  {
   "cell_type": "code",
   "execution_count": 46,
   "metadata": {
    "collapsed": true
   },
   "outputs": [],
   "source": [
    "label_test = []\n",
    "data_test = []\n",
    "data_dirs = os.listdir(test_dir)\n",
    "if '.DS_Store' in data_dirs:\n",
    "    data_dirs.remove('.DS_Store')"
   ]
  },
  {
   "cell_type": "code",
   "execution_count": 47,
   "metadata": {},
   "outputs": [],
   "source": [
    "source_path = test_dir\n",
    "test_images = os.listdir(source_path)\n",
    "if not os.path.exists(target_test_dir):\n",
    "    os.makedirs(target_test_dir)\n",
    "for image_id in test_images:\n",
    "        image_path = os.path.join(source_path,image_id)\n",
    "        img =Image.open(image_path)\n",
    "        img = img.resize((28, 28))\n",
    "        img = img.convert(mode = 'L')\n",
    "        img.save(os.path.join(target_test_dir,image_id))\n",
    "    "
   ]
  },
  {
   "cell_type": "code",
   "execution_count": null,
   "metadata": {
    "collapsed": true
   },
   "outputs": [],
   "source": []
  }
 ],
 "metadata": {
  "kernelspec": {
   "display_name": "Python [conda env:eff_treat]",
   "language": "python",
   "name": "conda-env-eff_treat-py"
  },
  "language_info": {
   "codemirror_mode": {
    "name": "ipython",
    "version": 3
   },
   "file_extension": ".py",
   "mimetype": "text/x-python",
   "name": "python",
   "nbconvert_exporter": "python",
   "pygments_lexer": "ipython3",
   "version": "3.6.4"
  }
 },
 "nbformat": 4,
 "nbformat_minor": 2
}
