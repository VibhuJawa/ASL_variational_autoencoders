{
 "cells": [
  {
   "cell_type": "code",
   "execution_count": 20,
   "metadata": {},
   "outputs": [],
   "source": [
    "import os\n",
    "import pandas as pd\n",
    "import PIL\n",
    "from PIL import Image\n",
    "import glob\n",
    "import numpy as np\n",
    "import matplotlib.pyplot as plt"
   ]
  },
  {
   "cell_type": "markdown",
   "metadata": {},
   "source": [
    "## Data Directories , ensure that you have extracted the data in data/asl-alphabet"
   ]
  },
  {
   "cell_type": "code",
   "execution_count": 2,
   "metadata": {},
   "outputs": [],
   "source": [
    "data_dir = \"data/asl-alphabet\"\n",
    "train_dir = os.path.join(data_dir,'asl_alphabet_train')\n",
    "test_dir = os.path.join(data_dir,'asl_alphabet_test')\n",
    "\n",
    "target_train_dir = os.path.join(data_dir,'asl_alphabet_train_compressed')\n",
    "target_dev_dir = os.path.join(data_dir,'asl_alphabet_dev_compressed')\n",
    "target_test_dir = os.path.join(data_dir,'asl_alphabet_test_compressed')"
   ]
  },
  {
   "cell_type": "markdown",
   "metadata": {},
   "source": [
    "## Data  Pre-Processing Code "
   ]
  },
  {
   "cell_type": "markdown",
   "metadata": {},
   "source": [
    "# Train"
   ]
  },
  {
   "cell_type": "code",
   "execution_count": 3,
   "metadata": {},
   "outputs": [],
   "source": [
    "data_dirs = os.listdir(train_dir)\n",
    "if '.DS_Store' in data_dirs:\n",
    "    data_dirs.remove('.DS_Store')"
   ]
  },
  {
   "cell_type": "code",
   "execution_count": 4,
   "metadata": {},
   "outputs": [],
   "source": [
    "for label in data_dirs:\n",
    "    source_path = os.path.join(train_dir,label)\n",
    "    label_images = os.listdir(source_path)\n",
    "    dest_train_path = os.path.join(target_train_dir,label)\n",
    "    dest_dev_path = os.path.join(target_dev_dir,label)\n",
    "    if not os.path.exists(dest_train_path):\n",
    "        os.makedirs(dest_train_path)\n",
    "    if not os.path.exists(dest_dev_path):\n",
    "        os.makedirs(dest_dev_path)\n",
    "        \n",
    "    for image_id in label_images:\n",
    "        image_path = os.path.join(source_path,image_id)\n",
    "        img=Image.open(image_path)\n",
    "        img = img.resize((28,28), resample=PIL.Image.BICUBIC).convert('L', dither=True)\n",
    "        if np.random.uniform() > 0.3:\n",
    "            img.save(os.path.join(dest_train_path,image_id))\n",
    "        else:\n",
    "            img.save(os.path.join(dest_dev_path,image_id))"
   ]
  },
  {
   "cell_type": "markdown",
   "metadata": {},
   "source": [
    "# Test Compression"
   ]
  },
  {
   "cell_type": "code",
   "execution_count": 5,
   "metadata": {},
   "outputs": [],
   "source": [
    "label_test = []\n",
    "data_test = []\n",
    "data_dirs = os.listdir(test_dir)\n",
    "if '.DS_Store' in data_dirs:\n",
    "    data_dirs.remove('.DS_Store')"
   ]
  },
  {
   "cell_type": "code",
   "execution_count": 6,
   "metadata": {},
   "outputs": [],
   "source": [
    "source_path = test_dir\n",
    "test_images = os.listdir(source_path)\n",
    "if not os.path.exists(target_test_dir):\n",
    "    os.makedirs(target_test_dir)\n",
    "for image_id in test_images:\n",
    "        image_path = os.path.join(source_path,image_id)\n",
    "        img =Image.open(image_path)\n",
    "        img = img.resize((28,28), resample=PIL.Image.BICUBIC).convert('L', dither=True)\n",
    "        img.save(os.path.join(target_test_dir,image_id))\n",
    "    "
   ]
  },
  {
   "cell_type": "code",
   "execution_count": 7,
   "metadata": {},
   "outputs": [],
   "source": [
    "data_dir = \"data/asl-alphabet\"\n",
    "train_dir = os.path.join(data_dir,'asl_alphabet_train')\n",
    "test_dir = os.path.join(data_dir,'asl_alphabet_test')\n"
   ]
  },
  {
   "cell_type": "code",
   "execution_count": 30,
   "metadata": {},
   "outputs": [
    {
     "ename": "SyntaxError",
     "evalue": "invalid syntax (<ipython-input-30-da946a759eea>, line 3)",
     "output_type": "error",
     "traceback": [
      "\u001b[0;36m  File \u001b[0;32m\"<ipython-input-30-da946a759eea>\"\u001b[0;36m, line \u001b[0;32m3\u001b[0m\n\u001b[0;31m    content[columns = content[1:]]\u001b[0m\n\u001b[0m                    ^\u001b[0m\n\u001b[0;31mSyntaxError\u001b[0m\u001b[0;31m:\u001b[0m invalid syntax\n"
     ]
    }
   ],
   "source": [
    "with open(os.path.join(data_dir,'sign_mnist_test.csv')) as file:\n",
    "    content = pd.read_csv(file)\n",
    "content[content[1:]]"
   ]
  },
  {
   "cell_type": "code",
   "execution_count": 19,
   "metadata": {},
   "outputs": [
    {
     "data": {
      "text/plain": [
       "array(['2', '173', '174', '173', '174', '173', '173', '175', '175', '174',\n",
       "       '175', '176', '175', '174', '174', '173', '173', '174', '170',\n",
       "       '172', '172', '170', '171', '171', '170', '168', '168', '167',\n",
       "       '166', '176', '176', '176', '176', '176', '176', '177', '177',\n",
       "       '176', '178', '178', '176', '177', '177', '178', '179', '177',\n",
       "       '179', '173', '172', '169', '171', '171', '171', '170', '168',\n",
       "       '168', '167', '178', '177', '178', '178', '179', '178', '179',\n",
       "       '179', '179', '179', '179', '179', '174', '169', '157', '154',\n",
       "       '130', '146', '189', '179', '174', '173', '172', '171', '171',\n",
       "       '169', '168', '169', '179', '179', '179', '180', '181', '180',\n",
       "       '179', '178', '181', '180', '177', '163', '135', '106', '83', '63',\n",
       "       '53', '89', '156', '144', '170', '175', '173', '174', '174', '172',\n",
       "       '170', '171', '182', '181', '182', '182', '182', '183', '181',\n",
       "       '181', '175', '173', '153', '109', '72', '56', '52', '31', '30',\n",
       "       '41', '79', '57', '162', '180', '176', '176', '176', '175', '175',\n",
       "       '174', '183', '184', '184', '183', '183', '184', '183', '176',\n",
       "       '165', '143', '97', '54', '32', '26', '22', '24', '29', '45', '51',\n",
       "       '56', '160', '181', '177', '177', '178', '176', '174', '175',\n",
       "       '184', '184', '183', '183', '184', '184', '182', '168', '161',\n",
       "       '95', '39', '24', '18', '20', '30', '18', '19', '29', '44', '50',\n",
       "       '65', '184', '178', '177', '177', '177', '175', '177', '185',\n",
       "       '185', '183', '182', '183', '185', '179', '172', '137', '68', '19',\n",
       "       '9', '21', '25', '24', '19', '33', '47', '50', '56', '126', '187',\n",
       "       '178', '180', '180', '181', '179', '178', '186', '185', '185',\n",
       "       '184', '186', '187', '175', '171', '106', '42', '14', '24', '23',\n",
       "       '10', '29', '44', '32', '34', '76', '159', '187', '180', '183',\n",
       "       '182', '177', '162', '173', '180', '186', '186', '187', '186',\n",
       "       '187', '186', '176', '163', '102', '47', '19', '32', '16', '29',\n",
       "       '39', '26', '65', '155', '184', '189', '183', '184', '185', '180',\n",
       "       '156', '114', '128', '189', '187', '187', '187', '188', '192',\n",
       "       '180', '180', '159', '101', '52', '30', '16', '22', '49', '43',\n",
       "       '112', '183', '193', '184', '184', '185', '186', '182', '153',\n",
       "       '152', '80', '138', '190', '189', '189', '188', '191', '181',\n",
       "       '166', '188', '154', '96', '48', '33', '11', '39', '33', '98',\n",
       "       '210', '186', '185', '187', '186', '185', '188', '166', '145',\n",
       "       '129', '71', '179', '184', '192', '191', '189', '195', '169',\n",
       "       '154', '190', '154', '108', '58', '27', '17', '36', '31', '164',\n",
       "       '194', '186', '189', '189', '187', '187', '189', '149', '153',\n",
       "       '86', '90', '196', '180', '192', '192', '191', '197', '165', '151',\n",
       "       '194', '160', '125', '68', '24', '26', '23', '87', '205', '187',\n",
       "       '191', '191', '189', '189', '191', '171', '140', '140', '74',\n",
       "       '102', '197', '183', '192', '192', '193', '199', '162', '166',\n",
       "       '202', '166', '132', '84', '33', '29', '15', '132', '210', '195',\n",
       "       '198', '197', '193', '194', '172', '149', '154', '138', '59',\n",
       "       '101', '201', '184', '192', '192', '192', '201', '163', '176',\n",
       "       '205', '168', '137', '96', '39', '27', '20', '126', '196', '167',\n",
       "       '159', '170', '185', '175', '148', '156', '151', '102', '54',\n",
       "       '166', '190', '187', '193', '194', '194', '199', '161', '181',\n",
       "       '205', '164', '138', '109', '48', '22', '34', '54', '87', '100',\n",
       "       '107', '113', '122', '111', '138', '145', '110', '58', '155',\n",
       "       '194', '186', '188', '195', '196', '196', '200', '160', '181',\n",
       "       '202', '166', '144', '113', '55', '26', '39', '67', '102', '125',\n",
       "       '126', '104', '101', '92', '102', '104', '52', '144', '199', '186',\n",
       "       '190', '189', '195', '196', '195', '199', '157', '182', '198',\n",
       "       '174', '150', '113', '60', '45', '51', '98', '115', '133', '119',\n",
       "       '100', '79', '75', '76', '44', '121', '203', '187', '192', '192',\n",
       "       '190', '196', '197', '197', '195', '161', '182', '195', '177',\n",
       "       '148', '112', '71', '59', '49', '98', '107', '119', '114', '92',\n",
       "       '70', '67', '36', '86', '203', '191', '192', '192', '191', '191',\n",
       "       '198', '198', '201', '195', '167', '186', '191', '179', '144',\n",
       "       '108', '80', '69', '50', '84', '97', '100', '101', '82', '67',\n",
       "       '40', '62', '184', '198', '193', '194', '193', '193', '192', '199',\n",
       "       '198', '200', '192', '175', '190', '188', '185', '146', '103',\n",
       "       '83', '68', '49', '80', '80', '81', '78', '65', '43', '101', '186',\n",
       "       '200', '194', '194', '194', '193', '193', '192', '201', '200',\n",
       "       '201', '189', '183', '193', '183', '178', '133', '86', '70', '58',\n",
       "       '47', '75', '65', '72', '53', '49', '143', '204', '199', '196',\n",
       "       '194', '194', '194', '193', '193', '192', '199', '198', '201',\n",
       "       '184', '185', '193', '179', '166', '119', '68', '60', '53', '53',\n",
       "       '68', '56', '47', '58', '162', '209', '195', '198', '197', '195',\n",
       "       '196', '195', '194', '194', '193', '198', '198', '200', '186',\n",
       "       '177', '182', '178', '171', '131', '64', '64', '64', '59', '61',\n",
       "       '30', '80', '184', '205', '198', '199', '200', '198', '197', '197',\n",
       "       '195', '194', '194', '193', '198', '199', '199', '186', '180',\n",
       "       '173', '178', '184', '149', '60', '71', '72', '69', '35', '78',\n",
       "       '201', '199', '196', '200', '198', '197', '197', '196', '196',\n",
       "       '194', '192', '192', '192', '198', '200', '193', '187', '195',\n",
       "       '182', '185', '186', '157', '64', '74', '78', '64', '67', '191',\n",
       "       '202', '198', '200', '199', '199', '197', '197', '197', '196',\n",
       "       '194', '193', '192', '191', '199', '201', '190', '190', '194',\n",
       "       '192', '187', '181', '154', '72', '66', '74', '54', '139', '210',\n",
       "       '198', '201', '201', '201', '200', '197', '198', '198', '197',\n",
       "       '195', '195', '193', '192\\n'], dtype='<U4')"
      ]
     },
     "execution_count": 19,
     "metadata": {},
     "output_type": "execute_result"
    }
   ],
   "source": [
    "np.asarray(content[-1].split(','))"
   ]
  }
 ],
 "metadata": {
  "kernelspec": {
   "display_name": "Python 3",
   "language": "python",
   "name": "python3"
  },
  "language_info": {
   "codemirror_mode": {
    "name": "ipython",
    "version": 3
   },
   "file_extension": ".py",
   "mimetype": "text/x-python",
   "name": "python",
   "nbconvert_exporter": "python",
   "pygments_lexer": "ipython3",
   "version": "3.6.4"
  }
 },
 "nbformat": 4,
 "nbformat_minor": 2
}
