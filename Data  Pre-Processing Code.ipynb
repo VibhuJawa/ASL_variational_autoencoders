{
 "cells": [
  {
   "cell_type": "code",
   "execution_count": 1,
   "metadata": {},
   "outputs": [],
   "source": [
    "import os\n",
    "import PIL\n",
    "from PIL import Image\n",
    "import glob\n",
    "import numpy as np\n",
    "import matplotlib.pyplot as plt"
   ]
  },
  {
   "cell_type": "markdown",
   "metadata": {},
   "source": [
    "## Data Directories , ensure that you have extracted the data in data/asl-alphabet"
   ]
  },
  {
   "cell_type": "code",
   "execution_count": 2,
   "metadata": {},
   "outputs": [],
   "source": [
    "data_dir = \"data/asl-alphabet\"\n",
    "train_dir = os.path.join(data_dir,'asl_alphabet_train')\n",
    "test_dir = os.path.join(data_dir,'asl_alphabet_test')\n",
    "\n",
    "target_train_dir = os.path.join(data_dir,'asl_alphabet_train_compressed')\n",
    "target_dev_dir = os.path.join(data_dir,'asl_alphabet_dev_compressed')\n",
    "target_test_dir = os.path.join(data_dir,'asl_alphabet_test_compressed')"
   ]
  },
  {
   "cell_type": "markdown",
   "metadata": {},
   "source": [
    "## Data  Pre-Processing Code "
   ]
  },
  {
   "cell_type": "markdown",
   "metadata": {},
   "source": [
    "# Train"
   ]
  },
  {
   "cell_type": "code",
   "execution_count": 3,
   "metadata": {},
   "outputs": [],
   "source": [
    "data_dirs = os.listdir(train_dir)\n",
    "if '.DS_Store' in data_dirs:\n",
    "    data_dirs.remove('.DS_Store')"
   ]
  },
  {
   "cell_type": "code",
   "execution_count": 4,
   "metadata": {},
   "outputs": [],
   "source": [
    "for label in data_dirs:\n",
    "    source_path = os.path.join(train_dir,label)\n",
    "    label_images = os.listdir(source_path)\n",
    "    dest_train_path = os.path.join(target_train_dir,label)\n",
    "    dest_dev_path = os.path.join(target_dev_dir,label)\n",
    "    if not os.path.exists(dest_train_path):\n",
    "        os.makedirs(dest_train_path)\n",
    "    if not os.path.exists(dest_dev_path):\n",
    "        os.makedirs(dest_dev_path)\n",
    "        \n",
    "    for image_id in label_images:\n",
    "        image_path = os.path.join(source_path,image_id)\n",
    "        img=Image.open(image_path)\n",
    "        img = img.resize((28,28), resample=PIL.Image.BICUBIC).convert('L', dither=True)\n",
    "        if np.random.uniform() > 0.3:\n",
    "            img.save(os.path.join(dest_train_path,image_id))\n",
    "        else:\n",
    "            img.save(os.path.join(dest_dev_path,image_id))"
   ]
  },
  {
   "cell_type": "markdown",
   "metadata": {},
   "source": [
    "# Test Compression"
   ]
  },
  {
   "cell_type": "code",
   "execution_count": 5,
   "metadata": {},
   "outputs": [],
   "source": [
    "label_test = []\n",
    "data_test = []\n",
    "data_dirs = os.listdir(test_dir)\n",
    "if '.DS_Store' in data_dirs:\n",
    "    data_dirs.remove('.DS_Store')"
   ]
  },
  {
   "cell_type": "code",
   "execution_count": 6,
   "metadata": {},
   "outputs": [],
   "source": [
    "source_path = test_dir\n",
    "test_images = os.listdir(source_path)\n",
    "if not os.path.exists(target_test_dir):\n",
    "    os.makedirs(target_test_dir)\n",
    "for image_id in test_images:\n",
    "        image_path = os.path.join(source_path,image_id)\n",
    "        img =Image.open(image_path)\n",
    "        img = img.resize((28,28), resample=PIL.Image.BICUBIC).convert('L', dither=True)\n",
    "        img.save(os.path.join(target_test_dir,image_id))\n",
    "    "
   ]
  },
  {
   "cell_type": "code",
   "execution_count": null,
   "metadata": {},
   "outputs": [],
   "source": []
  }
 ],
 "metadata": {
  "kernelspec": {
   "display_name": "Python 3",
   "language": "python",
   "name": "python3"
  },
  "language_info": {
   "codemirror_mode": {
    "name": "ipython",
    "version": 3
   },
   "file_extension": ".py",
   "mimetype": "text/x-python",
   "name": "python",
   "nbconvert_exporter": "python",
   "pygments_lexer": "ipython3",
   "version": "3.6.4"
  }
 },
 "nbformat": 4,
 "nbformat_minor": 2
}
