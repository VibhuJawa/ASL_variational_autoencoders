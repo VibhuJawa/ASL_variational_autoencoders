{
 "cells": [
  {
   "cell_type": "markdown",
   "metadata": {
    "colab_type": "text",
    "id": "view-in-github"
   },
   "source": [
    "[View in Colaboratory](https://colab.research.google.com/github/VibhuJawa/variational_autoencoders/blob/master/variationa_auto_encoders_starter_code.ipynb)"
   ]
  },
  {
   "cell_type": "markdown",
   "metadata": {
    "colab_type": "text",
    "id": "Cq1t9bGsDTvi"
   },
   "source": [
    "### Custom LaTeX commands (do not delete this cell)\n",
    "$$\n",
    "\\DeclareMathOperator{\\softmax}{softmax}\n",
    "\\DeclareMathOperator{\\sigmoid}{sigmoid}\n",
    "\\DeclareMathOperator{\\softplus}{softplus}\n",
    "\\DeclareMathOperator{\\diag}{diag}\n",
    "\\DeclareMathOperator{\\Categorical}{Categorical}\n",
    "\\DeclareMathOperator{\\Normal}{Normal}\n",
    "\\DeclareMathOperator{\\E}{E}\n",
    "\\DeclareMathOperator{\\KL}{KL}\n",
    "\\DeclareMathOperator{\\ELBO}{ELBO}\n",
    "\\newcommand{\\xb}{\\boldsymbol{x}}\n",
    "\\newcommand{\\zb}{\\boldsymbol{z}}\n",
    "\\newcommand{\\Ib}{\\boldsymbol{I}}\n",
    "\\newcommand{\\mub}{\\boldsymbol{\\mu}}\n",
    "\\newcommand{\\sigmab}{\\boldsymbol{\\sigma}}\n",
    "\\newcommand{\\0}{\\boldsymbol{0}}\n",
    "$$"
   ]
  },
  {
   "cell_type": "markdown",
   "metadata": {
    "colab_type": "text",
    "id": "bfyI_9zZPwsa"
   },
   "source": [
    "# Variational Autoencoders\n",
    "\n",
    "In this lab we'll explore unsupervised learning with variational autoencoders. We will learn a compact and meaningful representation of digits.\n",
    "\n",
    "High level overview, to supplement what we'll go over during the lab:\n",
    "- We will specify $p(\\zb)$, a prior over our latent encoding $\\zb$, as a normal distribution with mean $\\0$ and covariance $\\Ib$.\n",
    "- We will specify $p(\\xb \\mid \\zb)$, a distribution over an image given a latent encoding, as normal *with a mean that is computed from $\\zb$ using a neural network*. This *decoder* network maps $\\zb$ to a mean $\\mub_x$ and a covariance $\\diag(\\sigmab_x)$ (which we will assume to be fixed).\n",
    "- This in turn fully specifies $p(\\zb \\mid \\xb)$, but to obtain it we'd need to marginalize out $\\zb$. This is intractable because $p(\\xb \\mid \\zb)$ is complex (it's normal, but remember that its mean is a complex function of $\\zb$).\n",
    "- Thus we will *approximate* $p(\\zb \\mid \\xb)$ with $q(\\zb \\mid \\xb)$, a normal distribution *with a mean and covariance that is computed from $\\xb$ using a different neural network*. This *encoder* network maps an image $\\xb$ to a mean $\\mub_z$ and a covariance $\\diag(\\sigmab_z)$, which in turn lets us sample $\\zb$\n",
    "- We will train the encoder network and the decoder network jointly to maximize the evidence lower bound (ELBO) of our data. (Perhaps you remember this lower bound from expectation maximization?)\n",
    "- Finally, we will visualize reconstructions from our encodings, compare them to the original images, and explore $\\zb$ space to smoothly interpolate between an image of a 1 and an image of a 7."
   ]
  },
  {
   "cell_type": "code",
   "execution_count": 2,
   "metadata": {
    "colab": {
     "base_uri": "https://localhost:8080/",
     "height": 445
    },
    "colab_type": "code",
    "id": "r3ce0VVgXqQ2",
    "outputId": "480972ae-54fe-47e0-f483-788b20049222",
    "scrolled": false
   },
   "outputs": [
    {
     "name": "stdout",
     "output_type": "stream",
     "text": [
      "Requirement already satisfied: torchvision in /Users/BaiXueshan/anaconda/envs/numpy/lib/python3.6/site-packages (0.2.1)\n",
      "Requirement already satisfied: torch in /Users/BaiXueshan/anaconda/envs/numpy/lib/python3.6/site-packages (from torchvision) (0.4.0)\n",
      "Requirement already satisfied: six in /Users/BaiXueshan/anaconda/envs/numpy/lib/python3.6/site-packages (from torchvision) (1.11.0)\n",
      "Requirement already satisfied: pillow>=4.1.1 in /Users/BaiXueshan/anaconda/envs/numpy/lib/python3.6/site-packages (from torchvision) (5.1.0)\n",
      "Requirement already satisfied: numpy in /Users/BaiXueshan/anaconda/envs/numpy/lib/python3.6/site-packages (from torchvision) (1.14.2)\n",
      "\u001b[31mmkl-random 1.0.1 requires cython, which is not installed.\u001b[0m\n",
      "\u001b[31mmkl-fft 1.0.0 requires cython, which is not installed.\u001b[0m\n"
     ]
    }
   ],
   "source": [
    "# !pip install http://download.pytorch.org/whl/torch-0.1.12.post2-cp27-none-macosx_10_7_x86_64.whl\n",
    "!pip install torchvision"
   ]
  },
  {
   "cell_type": "code",
   "execution_count": 14,
   "metadata": {
    "colab": {},
    "colab_type": "code",
    "id": "mKqJ2q6XalPc"
   },
   "outputs": [
    {
     "ename": "ImportError",
     "evalue": "No module named 'torch'",
     "output_type": "error",
     "traceback": [
      "\u001b[0;31m----------------------------------------------------\u001b[0m",
      "\u001b[0;31mImportError\u001b[0m        Traceback (most recent call last)",
      "\u001b[0;32m<ipython-input-14-4c6fdf721f8e>\u001b[0m in \u001b[0;36m<module>\u001b[0;34m()\u001b[0m\n\u001b[1;32m     10\u001b[0m \u001b[0;32mimport\u001b[0m \u001b[0mitertools\u001b[0m\u001b[0;34m\u001b[0m\u001b[0m\n\u001b[1;32m     11\u001b[0m \u001b[0;34m\u001b[0m\u001b[0m\n\u001b[0;32m---> 12\u001b[0;31m \u001b[0;32mimport\u001b[0m \u001b[0mtorch\u001b[0m\u001b[0;34m\u001b[0m\u001b[0m\n\u001b[0m\u001b[1;32m     13\u001b[0m \u001b[0;32mfrom\u001b[0m \u001b[0mtorch\u001b[0m\u001b[0;34m.\u001b[0m\u001b[0mautograd\u001b[0m \u001b[0;32mimport\u001b[0m \u001b[0mVariable\u001b[0m\u001b[0;34m\u001b[0m\u001b[0m\n\u001b[1;32m     14\u001b[0m \u001b[0;32mimport\u001b[0m \u001b[0mtorch\u001b[0m\u001b[0;34m.\u001b[0m\u001b[0mnn\u001b[0m\u001b[0;34m.\u001b[0m\u001b[0mfunctional\u001b[0m \u001b[0;32mas\u001b[0m \u001b[0mF\u001b[0m\u001b[0;34m\u001b[0m\u001b[0m\n",
      "\u001b[0;31mImportError\u001b[0m: No module named 'torch'"
     ]
    }
   ],
   "source": [
    "%matplotlib inline\n",
    "import matplotlib.pyplot as plt\n",
    "from matplotlib import rcParams\n",
    "rcParams['axes.grid'] = False\n",
    "\n",
    "import math\n",
    "import numpy as np\n",
    "from scipy import stats\n",
    "import time\n",
    "import itertools\n",
    "\n",
    "import torch\n",
    "from torch.autograd import Variable\n",
    "import torch.nn.functional as F\n",
    "import torchvision\n",
    "\n",
    "from pathlib import Path\n",
    "HOME = Path.home()\n",
    "MNIST_PATH = HOME / 'data' / 'mnist'\n",
    "\n",
    "NUM_CLASSES = 10\n",
    "CHANNELS = 1\n",
    "HEIGHT = 28\n",
    "WIDTH = 28\n",
    "\n",
    "Z_DIM = 16\n",
    "LEARNING_RATE = 0.001\n",
    "BATCH_SIZE = 128\n",
    "NUM_STEPS = 5000"
   ]
  },
  {
   "cell_type": "code",
   "execution_count": 9,
   "metadata": {
    "colab": {
     "base_uri": "https://localhost:8080/",
     "height": 119
    },
    "colab_type": "code",
    "id": "ZJsU5u9WhBzN",
    "outputId": "82267115-2820-472c-a461-8a6874923a7a"
   },
   "outputs": [
    {
     "ename": "NameError",
     "evalue": "name 'torchvision' is not defined",
     "output_type": "error",
     "traceback": [
      "\u001b[0;31m----------------------------------------------------\u001b[0m",
      "\u001b[0;31mNameError\u001b[0m          Traceback (most recent call last)",
      "\u001b[0;32m<ipython-input-9-df39c80c4935>\u001b[0m in \u001b[0;36m<module>\u001b[0;34m()\u001b[0m\n\u001b[1;32m      1\u001b[0m \u001b[0;31m# We're going to load the official MNIST train set and use\u001b[0m\u001b[0;34m\u001b[0m\u001b[0;34m\u001b[0m\u001b[0m\n\u001b[1;32m      2\u001b[0m \u001b[0;31m# *only* the images (not the labels).\u001b[0m\u001b[0;34m\u001b[0m\u001b[0;34m\u001b[0m\u001b[0m\n\u001b[0;32m----> 3\u001b[0;31m \u001b[0mofficial_mnist_train\u001b[0m \u001b[0;34m=\u001b[0m \u001b[0mtorchvision\u001b[0m\u001b[0;34m.\u001b[0m\u001b[0mdatasets\u001b[0m\u001b[0;34m.\u001b[0m\u001b[0mMNIST\u001b[0m\u001b[0;34m(\u001b[0m\u001b[0mstr\u001b[0m\u001b[0;34m(\u001b[0m\u001b[0mMNIST_PATH\u001b[0m\u001b[0;34m)\u001b[0m\u001b[0;34m,\u001b[0m \u001b[0mtrain\u001b[0m\u001b[0;34m=\u001b[0m\u001b[0;32mTrue\u001b[0m\u001b[0;34m,\u001b[0m \u001b[0mdownload\u001b[0m\u001b[0;34m=\u001b[0m\u001b[0;32mTrue\u001b[0m\u001b[0;34m)\u001b[0m\u001b[0;34m\u001b[0m\u001b[0m\n\u001b[0m\u001b[1;32m      4\u001b[0m \u001b[0mtrain_images\u001b[0m \u001b[0;34m=\u001b[0m \u001b[0mofficial_mnist_train\u001b[0m\u001b[0;34m.\u001b[0m\u001b[0mtrain_data\u001b[0m\u001b[0;34m.\u001b[0m\u001b[0mnumpy\u001b[0m\u001b[0;34m(\u001b[0m\u001b[0;34m)\u001b[0m\u001b[0;34m.\u001b[0m\u001b[0mastype\u001b[0m\u001b[0;34m(\u001b[0m\u001b[0mnp\u001b[0m\u001b[0;34m.\u001b[0m\u001b[0mfloat32\u001b[0m\u001b[0;34m)\u001b[0m\u001b[0;34m\u001b[0m\u001b[0m\n",
      "\u001b[0;31mNameError\u001b[0m: name 'torchvision' is not defined"
     ]
    }
   ],
   "source": [
    "# We're going to load the official MNIST train set and use\n",
    "# *only* the images (not the labels).\n",
    "official_mnist_train = torchvision.datasets.MNIST(str(MNIST_PATH), train=True, download=True)\n",
    "train_images = official_mnist_train.train_data.numpy().astype(np.float32)"
   ]
  },
  {
   "cell_type": "code",
   "execution_count": 5,
   "metadata": {
    "colab": {
     "base_uri": "https://localhost:8080/",
     "height": 34
    },
    "colab_type": "code",
    "id": "cdhHhkpFxTUV",
    "outputId": "66087c18-b821-49f5-e784-ea6268fa0b9b"
   },
   "outputs": [
    {
     "name": "stdout",
     "output_type": "stream",
     "text": [
      "(60000, 28, 28)\n"
     ]
    }
   ],
   "source": [
    "print(train_images.shape)"
   ]
  },
  {
   "cell_type": "code",
   "execution_count": 0,
   "metadata": {
    "colab": {},
    "colab_type": "code",
    "collapsed": true,
    "id": "6iRCVQ90jxjZ"
   },
   "outputs": [],
   "source": [
    "train_images -= train_images.mean(axis=(1, 2), keepdims=True)\n",
    "train_images /= train_images.std(axis=(1, 2), keepdims=True)"
   ]
  },
  {
   "cell_type": "code",
   "execution_count": 7,
   "metadata": {
    "colab": {
     "base_uri": "https://localhost:8080/",
     "height": 51
    },
    "colab_type": "code",
    "id": "lgIXQ0QO0NUy",
    "outputId": "2039e448-cc21-49e8-8808-369858fa51aa"
   },
   "outputs": [
    {
     "name": "stdout",
     "output_type": "stream",
     "text": [
      "[ 0.0000000e+00 -1.2164214e-08  0.0000000e+00]\n",
      "[1. 1. 1.]\n"
     ]
    }
   ],
   "source": [
    "print(train_images[:3].mean(axis=(1, 2)))\n",
    "print(train_images[:3].std(axis=(1, 2)))"
   ]
  },
  {
   "cell_type": "markdown",
   "metadata": {
    "colab_type": "text",
    "id": "zeeHcMgtFjua"
   },
   "source": [
    "Let's view a 5 x 5 grid of the first 25 images."
   ]
  },
  {
   "cell_type": "code",
   "execution_count": 8,
   "metadata": {
    "colab": {
     "base_uri": "https://localhost:8080/",
     "height": 269
    },
    "colab_type": "code",
    "id": "DLCrAXtCFj3C",
    "outputId": "723aeb92-a892-4787-ce27-cde02ce8976c"
   },
   "outputs": [
    {
     "data": {
      "image/png": "[encoded data removed]",
      "text/plain": [
       "<matplotlib.figure.Figure at 0x7fa354a5fe48>"
      ]
     },
     "metadata": {
      "tags": []
     },
     "output_type": "display_data"
    }
   ],
   "source": [
    "image_grid = train_images[:25].reshape(5, 5, HEIGHT, WIDTH)\n",
    "image_grid = np.concatenate(image_grid, axis=1)\n",
    "image_grid = np.concatenate(image_grid, axis=1)\n",
    "plt.imshow(image_grid)\n",
    "plt.grid(False)"
   ]
  },
  {
   "cell_type": "markdown",
   "metadata": {
    "colab_type": "text",
    "id": "wZlPIpgSX26w"
   },
   "source": [
    "Let's convert the images to vectors by flattening them, as we have done in the past:"
   ]
  },
  {
   "cell_type": "code",
   "execution_count": 0,
   "metadata": {
    "colab": {},
    "colab_type": "code",
    "collapsed": true,
    "id": "BmXdidmRm0jh"
   },
   "outputs": [],
   "source": [
    "train_vectors = train_images.reshape(-1, HEIGHT * WIDTH)"
   ]
  },
  {
   "cell_type": "markdown",
   "metadata": {
    "colab_type": "text",
    "id": "PmWbExBjHPc1"
   },
   "source": [
    "Now let's define a batch function for retrieving examples (which is a modified version of what you've written in the past):"
   ]
  },
  {
   "cell_type": "code",
   "execution_count": 0,
   "metadata": {
    "colab": {},
    "colab_type": "code",
    "collapsed": true,
    "id": "VV-22bUNDRpO"
   },
   "outputs": [],
   "source": [
    "def batch(batch_size):\n",
    "  \"\"\"Create a random batch of examples.\n",
    "    \n",
    "  Args:\n",
    "    batch_size: An integer.\n",
    "  \n",
    "  Returns:\n",
    "    input_batch: A Variable of floats with shape [batch_size, num_features]\n",
    "  \"\"\"\n",
    "  random_ind = np.random.choice(train_vectors.shape[0], size=batch_size, replace=False)\n",
    "  input_batch = train_vectors[random_ind]\n",
    "  input_batch = Variable(torch.from_numpy(input_batch).cuda())\n",
    "  return input_batch"
   ]
  },
  {
   "cell_type": "markdown",
   "metadata": {
    "colab_type": "text",
    "id": "-rZYh3Me41Qh"
   },
   "source": [
    "**Modify the following cell to complete the decoder. It should**\n",
    "\n",
    "1. Map from our low-dimensional $\\zb$ to a hidden layer of 128 units\n",
    "2. Apply a ReLU nonlinearity\n",
    "3. Map to a hidden layer of 512 hidden units\n",
    "4. Apply a ReLU nonlinearity\n",
    "5. Map to $\\mub_x$ (which resides in $\\mathbb{R}^{784}$)\n",
    "6. (In addition, we return a fixed $\\sigmab_x$, but this is already in place for you.)"
   ]
  },
  {
   "cell_type": "code",
   "execution_count": 0,
   "metadata": {
    "colab": {},
    "colab_type": "code",
    "collapsed": true,
    "id": "7qNPkYhRkwcs"
   },
   "outputs": [],
   "source": [
    "class VAEDecoder(torch.nn.Module):\n",
    "\n",
    "  def __init__(self, z_dim):\n",
    "    super().__init__()\n",
    "    self.z_dim = z_dim\n",
    "    self.fc1 = torch.nn.Linear(128,128) # map from low-dimensional z to a hidden layer of 128 units\n",
    "    self.relu = torch.nn.functional.relu # apply a ReLU nonlinearity\n",
    "    self.fc2 = torch.nn.Linear(128,512)\n",
    "    self.fc3 = torch.nn.Linear(512,784)\n",
    "\n",
    "  def forward(self, z):\n",
    "    # TODO\n",
    "    x = self.relu(self.fc1(z))\n",
    "    x = self.relu(self.fc2(x))\n",
    "    mu_x = self.fc3(x)\n",
    "    sigma_x = Variable(mu_x.data.new(mu_x.shape).fill_(0.1))\n",
    "    return mu_x, sigma_x\n",
    "\n",
    "  def log_p_x_given_z(self, mu_x, sigma_x, x):\n",
    "    dist = torch.distributions.Normal(mu_x, sigma_x)\n",
    "    return dist.log_prob(x).sum()"
   ]
  },
  {
   "cell_type": "markdown",
   "metadata": {
    "colab_type": "text",
    "id": "ulpoHAcC5CLK"
   },
   "source": [
    "**Modify the following cell to complete the encoder. It should**\n",
    "\n",
    "1. Map from a flattened image $\\xb$ to a hidden layer of 512 units\n",
    "2. Apply a ReLU nonlinearity\n",
    "3. Map to a hidden layer of 128 units\n",
    "4. Apply a ReLU nonlinearity\n",
    "5. Map to $\\mub_z$ and $\\sigmab_z$. *Remember that the standard deviations must be positive.* Hint: Look up the documentation for `torch.nn.functional.softplus`."
   ]
  },
  {
   "cell_type": "code",
   "execution_count": 0,
   "metadata": {
    "colab": {},
    "colab_type": "code",
    "collapsed": true,
    "id": "p11IhLBlkwV2"
   },
   "outputs": [],
   "source": [
    "class VAEEncoder(torch.nn.Module):\n",
    "\n",
    "  def __init__(self, z_dim):\n",
    "    super().__init__()\n",
    "    self.z_dim = z_dim\n",
    "    self.fc1 = torch.nn.Linear(784,512)\n",
    "    self.relu = torch.nn.functional.relu\n",
    "    self.fc2 = torch.nn.Linear(512,128)\n",
    "    self.fc3 = torch.nn.Linear(128,128)\n",
    "    self.fc4 = torch.nn.Linear(128,128)\n",
    "    \n",
    "    self.softplus = torch.nn.Softplus()\n",
    "    # TODO\n",
    "\n",
    "  def forward(self, x):\n",
    "    # TODO\n",
    "    x = self.relu(self.fc1(x))\n",
    "    x = self.relu(self.fc2(x))\n",
    "    mu_z = self.softplus(self.fc3(x))\n",
    "    sigma_z = self.softplus(self.fc4(x))         \n",
    "    \n",
    "    return mu_z, sigma_z\n",
    "\n",
    "  def rsample(self, mu_z, sigma_z):\n",
    "    # If we truly sample, we break our (deterministic) computation graph.\n",
    "    # This is the reparameterization trick: we sample from a standard\n",
    "    # normal and transform it with mu_z and sigma_z so that we have\n",
    "    # a well-defined computation graph (on which we can run backprop).\n",
    "    standard_normal_samples = Variable(mu_z.data.new(mu_z.shape).normal_())\n",
    "    scaled_samples = sigma_z * standard_normal_samples\n",
    "    shifted_scaled_samples = scaled_samples + mu_z\n",
    "    return shifted_scaled_samples\n",
    "\n",
    "  def kl(self, mu_z, sigma_z):\n",
    "    # This is the KL divergence KL( N(mu_z, diag(sigma_z)) || N(0, I) ) in closed form.\n",
    "    # (It's not difficult to derive; try it!)\n",
    "    kl_q_z_p_z = 0.5 * torch.sum(-2*torch.log(sigma_z) - 1 + sigma_z**2 + mu_z.pow(2))\n",
    "    return kl_q_z_p_z"
   ]
  },
  {
   "cell_type": "markdown",
   "metadata": {
    "colab_type": "text",
    "id": "pnO17eJV52oC"
   },
   "source": [
    "We'll proceed as normal, creating our models and our optimizer..."
   ]
  },
  {
   "cell_type": "code",
   "execution_count": 0,
   "metadata": {
    "colab": {},
    "colab_type": "code",
    "collapsed": true,
    "id": "MZNEaJZKkwkI"
   },
   "outputs": [],
   "source": [
    "encoder = VAEEncoder(Z_DIM).cuda()\n",
    "decoder = VAEDecoder(Z_DIM).cuda()"
   ]
  },
  {
   "cell_type": "code",
   "execution_count": 0,
   "metadata": {
    "colab": {},
    "colab_type": "code",
    "collapsed": true,
    "id": "OXLk8rY2kwzc"
   },
   "outputs": [],
   "source": [
    "params = list(itertools.chain(encoder.parameters(), decoder.parameters()))\n",
    "optimizer = torch.optim.Adam(params, LEARNING_RATE)"
   ]
  },
  {
   "cell_type": "markdown",
   "metadata": {
    "colab_type": "text",
    "id": "NYxgo9-H58Pg"
   },
   "source": [
    "And now we'll define our main training step, which aims to maximize the following objective function (actually we'll minimize its negation):\n",
    "\n",
    "$$\n",
    "\\begin{align*}\n",
    "\\ELBO &\\equiv \\E_q \\log p(\\zb, \\xb) - \\E_q \\log q(\\zb \\mid \\xb) \\\\\n",
    "      &= \\E_q \\log p(\\zb) + \\E_q \\log p(\\xb \\mid \\zb) - \\E_q \\log q(\\zb \\mid \\xb) \\\\\n",
    "      &= \\E_q \\log p(\\xb \\mid \\zb) - \\KL( q(\\zb \\mid \\xb) \\mid\\mid p(\\zb))\n",
    "\\end{align*}\n",
    "$$\n",
    "\n",
    "For each entry in our batch, we'll estimate the term on the left using a single sample (so the expectation disappears), and we'll obtain the term on the right in closed form (which can be done because both $q$ and $p$ are normal)."
   ]
  },
  {
   "cell_type": "code",
   "execution_count": 0,
   "metadata": {
    "colab": {},
    "colab_type": "code",
    "collapsed": true,
    "id": "AjWjns4Akw69"
   },
   "outputs": [],
   "source": [
    "def train(samples):\n",
    "  mu_z, sigma_z = encoder(samples)\n",
    "  z = encoder.rsample(mu_z, sigma_z)\n",
    "  mu_x, sigma_x = decoder(z)\n",
    "  neg_log_p_given_x = -decoder.log_p_x_given_z(mu_x, sigma_x, samples) / samples.shape[0]\n",
    "  kl = encoder.kl(mu_z, sigma_z) / samples.shape[0]\n",
    "  loss = neg_log_p_given_x + kl\n",
    "  optimizer.zero_grad()\n",
    "  loss.backward()\n",
    "  optimizer.step()\n",
    "  return neg_log_p_given_x.data[0], kl.data[0], loss.data[0]"
   ]
  },
  {
   "cell_type": "markdown",
   "metadata": {
    "colab_type": "text",
    "id": "i7x5BDiuDcvm"
   },
   "source": [
    "Finally we can train; we'll keep track of the two components of our loss, their sum, and the ratio of the KL term to the log-prob term."
   ]
  },
  {
   "cell_type": "code",
   "execution_count": 0,
   "metadata": {
    "colab": {},
    "colab_type": "code",
    "collapsed": true,
    "id": "qtWWQY-8kxCk"
   },
   "outputs": [],
   "source": [
    "loss_list = []"
   ]
  },
  {
   "cell_type": "code",
   "execution_count": 60,
   "metadata": {
    "colab": {
     "base_uri": "https://localhost:8080/",
     "height": 657
    },
    "colab_type": "code",
    "id": "SsCDFTkLkxJj",
    "outputId": "9f282fef-b910-4af9-9d87-fec521182b8a"
   },
   "outputs": [
    {
     "name": "stdout",
     "output_type": "stream",
     "text": [
      "Step 00000 / 05000. Loss: 38360.35.\n",
      "Step 00250 / 05000. Loss: 10536.93.\n",
      "Step 00500 / 05000. Loss: 7153.66.\n",
      "Step 00750 / 05000. Loss: 5899.77.\n",
      "Step 01000 / 05000. Loss: 5025.40.\n",
      "Step 01250 / 05000. Loss: 4685.11.\n",
      "Step 01500 / 05000. Loss: 3923.60.\n",
      "Step 01750 / 05000. Loss: 3699.21.\n",
      "Step 02000 / 05000. Loss: 3692.67.\n",
      "Step 02250 / 05000. Loss: 3601.83.\n",
      "Step 02500 / 05000. Loss: 3400.84.\n",
      "Step 02750 / 05000. Loss: 3353.40.\n",
      "Step 03000 / 05000. Loss: 3348.25.\n",
      "Step 03250 / 05000. Loss: 2849.31.\n",
      "Step 03500 / 05000. Loss: 2971.03.\n",
      "Step 03750 / 05000. Loss: 3154.24.\n",
      "Step 04000 / 05000. Loss: 2872.73.\n",
      "Step 04250 / 05000. Loss: 2953.50.\n",
      "Step 04500 / 05000. Loss: 2587.10.\n",
      "Step 04750 / 05000. Loss: 2507.28.\n"
     ]
    },
    {
     "data": {
      "text/plain": [
       "[<matplotlib.lines.Line2D at 0x7fa32fcf90f0>]"
      ]
     },
     "execution_count": 60,
     "metadata": {
      "tags": []
     },
     "output_type": "execute_result"
    },
    {
     "data": {
      "image/png": "[encoded data removed]",
      "text/plain": [
       "<matplotlib.figure.Figure at 0x7fa3545a9780>"
      ]
     },
     "metadata": {
      "tags": []
     },
     "output_type": "display_data"
    },
    {
     "data": {
      "image/png": "[encoded data removed]",
      "text/plain": [
       "<matplotlib.figure.Figure at 0x7fa32fd2f278>"
      ]
     },
     "metadata": {
      "tags": []
     },
     "output_type": "display_data"
    }
   ],
   "source": [
    "for step in range(NUM_STEPS):\n",
    "  samples = batch(BATCH_SIZE)\n",
    "  loss_list.append(train(samples))\n",
    "  if step % 250 == 0:\n",
    "    loss = loss_list[-1][2]\n",
    "    print(f'Step {step:05d} / {NUM_STEPS:05d}. Loss: {loss:.2f}.')\n",
    "\n",
    "neg_log_p, kl, loss = zip(*loss_list)\n",
    "plt.figure(figsize=(6, 2))\n",
    "plt.plot(loss, linewidth=5, label='sum')\n",
    "plt.plot(neg_log_p, label='neg log p')\n",
    "plt.plot(kl, label='kl')\n",
    "plt.legend()\n",
    "\n",
    "plt.figure(figsize=(6, 2))\n",
    "plt.plot(np.array(kl) / np.array(neg_log_p))"
   ]
  },
  {
   "cell_type": "markdown",
   "metadata": {
    "colab_type": "text",
    "id": "NHMKLMPd9XGt"
   },
   "source": [
    "Now's take a look at some reconstructions: we'll compare the input images ($\\xb$) to their reconstructed means ($\\mub_x$), computed from samples of $\\zb$ from $p(\\zb \\mid \\xb)$.\n",
    "\n",
    "**Run the following cell repeatedly until you see at least one image of a 1 and one image of a 7.**\n",
    "\n",
    "Note: If the reconstructions are garbage, e.g. if they look like noise, then you have some debugging to do."
   ]
  },
  {
   "cell_type": "code",
   "execution_count": 65,
   "metadata": {
    "colab": {
     "base_uri": "https://localhost:8080/",
     "height": 235
    },
    "colab_type": "code",
    "id": "QSwjVABFqVGa",
    "outputId": "2f804169-300e-4251-b97e-0b366139ff0e"
   },
   "outputs": [
    {
     "data": {
      "text/plain": [
       "<matplotlib.image.AxesImage at 0x7fa32ed91cc0>"
      ]
     },
     "execution_count": 65,
     "metadata": {
      "tags": []
     },
     "output_type": "execute_result"
    },
    {
     "data": {
      "image/png": "[encoded data removed]",
      "text/plain": [
       "<matplotlib.figure.Figure at 0x7fa32ef169e8>"
      ]
     },
     "metadata": {
      "tags": []
     },
     "output_type": "display_data"
    }
   ],
   "source": [
    "samples = batch(10)\n",
    "\n",
    "mu_z, sigma_z = encoder(samples)\n",
    "z = encoder.rsample(mu_z, sigma_z)\n",
    "mu_x, sigma_x = decoder(z)\n",
    "\n",
    "samples = samples.view(-1, HEIGHT, WIDTH).data.cpu().numpy()\n",
    "samples = np.concatenate(samples, axis=1)\n",
    "mu_x = mu_x.view(-1, HEIGHT, WIDTH).data.cpu().numpy()\n",
    "mu_x = np.concatenate(mu_x, axis=1)\n",
    "plt.figure(figsize=(15, 5))\n",
    "plt.set_cmap('gray')\n",
    "plt.imshow(np.concatenate([samples, mu_x], axis=0))"
   ]
  },
  {
   "cell_type": "markdown",
   "metadata": {
    "colab_type": "text",
    "id": "K6ZudVCV90pG"
   },
   "source": [
    "**Modify the following cell to visualize generated images as we traverse $\\zb$ space from an image to a 1 to an image of a 7. (You should concatenate the images produced by your interpolated $\\zb$'s by concatenating their corresponding images horizontally.)**\n",
    "\n",
    "\n"
   ]
  },
  {
   "cell_type": "code",
   "execution_count": 127,
   "metadata": {
    "colab": {
     "base_uri": "https://localhost:8080/",
     "height": 136
    },
    "colab_type": "code",
    "id": "wOVBW02BqVNL",
    "outputId": "13ee5130-6c11-4f27-b85a-137491362aab"
   },
   "outputs": [
    {
     "name": "stdout",
     "output_type": "stream",
     "text": [
      "588\n"
     ]
    },
    {
     "data": {
      "text/plain": [
       "<matplotlib.image.AxesImage at 0x7fa3524b3550>"
      ]
     },
     "execution_count": 127,
     "metadata": {
      "tags": []
     },
     "output_type": "execute_result"
    },
    {
     "data": {
      "image/png": "[encoded data removed]",
      "text/plain": [
       "<matplotlib.figure.Figure at 0x7fa32e66ee80>"
      ]
     },
     "metadata": {
      "tags": []
     },
     "output_type": "display_data"
    }
   ],
   "source": [
    "z_1 = z[2] \n",
    "z_7 = z[0] # TODO\n",
    "mixture_coefs = Variable(torch.arange(0.0, 1.0, 0.05).cuda()).view(-1, 1)\n",
    "z_interp = (1.0 - mixture_coefs)**.5 * z_1 + mixture_coefs**.5 * z_7\n",
    "\n",
    "mu_x,sigma_x = decoder(z_interp)\n",
    "mu_x = mu_x.view(-1, HEIGHT, WIDTH).data.cpu().numpy()\n",
    "mu_x = np.concatenate(mu_x, axis=1)\n",
    "\n",
    "plt.figure(figsize=(20, 20))\n",
    "plt.set_cmap('gray')\n",
    "print(len(mu_x[0]))\n",
    "output_image = np.concatenate((samples[2].reshape((28,-1)), mu_x,samples[0].reshape((28,-1))), axis = 1)\n",
    "plt.imshow(output_image)"
   ]
  },
  {
   "cell_type": "code",
   "execution_count": 117,
   "metadata": {
    "colab": {
     "base_uri": "https://localhost:8080/",
     "height": 34
    },
    "colab_type": "code",
    "id": "YkEomPaIG5Ak",
    "outputId": "30f456d8-2e17-4449-b62d-2c0b2321b5fa"
   },
   "outputs": [
    {
     "data": {
      "text/plain": [
       "(28, 588)"
      ]
     },
     "execution_count": 117,
     "metadata": {
      "tags": []
     },
     "output_type": "execute_result"
    }
   ],
   "source": [
    "mu_x.shape"
   ]
  },
  {
   "cell_type": "code",
   "execution_count": 0,
   "metadata": {
    "colab": {},
    "colab_type": "code",
    "collapsed": true,
    "id": "lZI7gPiQK091"
   },
   "outputs": [],
   "source": []
  }
 ],
 "metadata": {
  "accelerator": "GPU",
  "anaconda-cloud": {},
  "colab": {
   "collapsed_sections": [],
   "name": "vjawa1-assignment-11.ipynb",
   "provenance": [],
   "version": "0.3.2"
  },
  "kernelspec": {
   "display_name": "Python 3",
   "language": "python",
   "name": "python3"
  },
  "language_info": {
   "codemirror_mode": {
    "name": "ipython",
    "version": 3
   },
   "file_extension": ".py",
   "mimetype": "text/x-python",
   "name": "python",
   "nbconvert_exporter": "python",
   "pygments_lexer": "ipython3",
   "version": "3.6.5"
  }
 },
 "nbformat": 4,
 "nbformat_minor": 1
}
