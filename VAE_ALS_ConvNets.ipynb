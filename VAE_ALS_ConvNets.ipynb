{
  "nbformat": 4,
  "nbformat_minor": 0,
  "metadata": {
    "colab": {
      "name": "VAE-ALS-ConvNets",
      "version": "0.3.2",
      "provenance": [],
      "collapsed_sections": []
    },
    "kernelspec": {
      "name": "python3",
      "display_name": "Python 3"
    },
    "accelerator": "GPU"
  },
  "cells": [
    {
      "cell_type": "markdown",
      "metadata": {
        "id": "view-in-github",
        "colab_type": "text"
      },
      "source": [
        "[View in Colaboratory](https://colab.research.google.com/github/VibhuJawa/variational_autoencoders/blob/master/VAE_ALS_ConvNets.ipynb)"
      ]
    },
    {
      "metadata": {
        "id": "Cq1t9bGsDTvi",
        "colab_type": "text"
      },
      "cell_type": "markdown",
      "source": [
        "### Custom LaTeX commands (do not delete this cell)\n",
        "$$\n",
        "\\DeclareMathOperator{\\softmax}{softmax}\n",
        "\\DeclareMathOperator{\\sigmoid}{sigmoid}\n",
        "\\DeclareMathOperator{\\softplus}{softplus}\n",
        "\\DeclareMathOperator{\\diag}{diag}\n",
        "\\DeclareMathOperator{\\Categorical}{Categorical}\n",
        "\\DeclareMathOperator{\\Normal}{Normal}\n",
        "\\DeclareMathOperator{\\E}{E}\n",
        "\\DeclareMathOperator{\\KL}{KL}\n",
        "\\DeclareMathOperator{\\ELBO}{ELBO}\n",
        "\\newcommand{\\xb}{\\boldsymbol{x}}\n",
        "\\newcommand{\\zb}{\\boldsymbol{z}}\n",
        "\\newcommand{\\Ib}{\\boldsymbol{I}}\n",
        "\\newcommand{\\mub}{\\boldsymbol{\\mu}}\n",
        "\\newcommand{\\sigmab}{\\boldsymbol{\\sigma}}\n",
        "\\newcommand{\\0}{\\boldsymbol{0}}\n",
        "$$"
      ]
    },
    {
      "metadata": {
        "id": "bfyI_9zZPwsa",
        "colab_type": "text"
      },
      "cell_type": "markdown",
      "source": [
        "# Variational Autoencoders\n",
        "\n",
        "In this lab we'll explore unsupervised learning with variational autoencoders. We will learn a compact and meaningful representation of digits.\n",
        "\n",
        "High level overview, to supplement what we'll go over during the lab:\n",
        "- We will specify $p(\\zb)$, a prior over our latent encoding $\\zb$, as a normal distribution with mean $\\0$ and covariance $\\Ib$.\n",
        "\n",
        "- We will specify $p(\\xb \\mid \\zb)$, a distribution over an image given a latent encoding, as normal *with a mean that is computed from $\\zb$ using a neural network*. This *decoder* network maps $\\zb$ to a mean $\\mub_x$ and a covariance $\\diag(\\sigmab_x)$ (which we will assume to be fixed). (Remember we can specify $p(\\xb \\mid \\zb)$ to be any distribution).\n",
        "\n",
        "- Our end goal is to find good latent variable z that explains the given data x. That is $p(\\zb \\mid \\xb)$ which can be written as $\\frac{p(\\xb, \\zb)}{p(\\xb)} = \\frac{p(\\xb \\mid \\zb) * p(z)}{p(\\xb)}$. But here p(x) is intractable since to find P(x) we need to iterate over all possible values of z i.e $\\int_{\\zb} p(\\xb \\mid \\zb) p(\\zb)dz$. This means that to find $p(\\zb \\mid \\xb)$, we'd need to marginalize out $\\zb$. This is intractable because $p(\\xb \\mid \\zb)$ is complex (it's normal, but remember that its mean is a complex function of $\\zb$).\n",
        "\n",
        "- Thus we will *approximate* $p(\\zb \\mid \\xb)$ with $q(\\zb \\mid \\xb)$, a normal distribution *with a mean and covariance that is computed from $\\xb$ using a different neural network*. This *encoder* network maps an image $\\xb$ to a mean $\\mub_z$ and a covariance $\\diag(\\sigmab_z)$, which in turn lets us sample $\\zb$\n",
        "\n",
        "- We will train the encoder network and the decoder network jointly to maximize the evidence lower bound (ELBO) of our data. (Perhaps you remember this lower bound from expectation maximization?)\n",
        "\n",
        "- Finally, we will visualize reconstructions from our encodings, compare them to the original images, and explore $\\zb$ space to smoothly interpolate between an image of a 1 and an image of a 7.\n",
        "\n",
        "It'll be best if you read about ELBO once and derive it by hand to have a better understanding [here](https://jaan.io/what-is-variational-autoencoder-vae-tutorial/)"
      ]
    },
    {
      "metadata": {
        "id": "r3ce0VVgXqQ2",
        "colab_type": "code",
        "colab": {
          "base_uri": "https://localhost:8080/",
          "height": 190
        },
        "outputId": "93ac503d-39e1-4a03-9bbc-3a53e20b2e9d"
      },
      "cell_type": "code",
      "source": [
        "!pip3 install http://download.pytorch.org/whl/cu80/torch-0.3.0.post4-cp36-cp36m-linux_x86_64.whl\n",
        "!pip3 install torchvision"
      ],
      "execution_count": 31,
      "outputs": [
        {
          "output_type": "stream",
          "text": [
            "Requirement already satisfied: torch==0.3.0.post4 from http://download.pytorch.org/whl/cu80/torch-0.3.0.post4-cp36-cp36m-linux_x86_64.whl in /usr/local/lib/python3.6/dist-packages (0.3.0.post4)\r\n",
            "Requirement already satisfied: pyyaml in /usr/local/lib/python3.6/dist-packages (from torch==0.3.0.post4) (3.12)\r\n",
            "Requirement already satisfied: numpy in /usr/local/lib/python3.6/dist-packages (from torch==0.3.0.post4) (1.14.3)\n",
            "Requirement already satisfied: torchvision in /usr/local/lib/python3.6/dist-packages (0.2.1)\n",
            "Requirement already satisfied: pillow>=4.1.1 in /usr/local/lib/python3.6/dist-packages (from torchvision) (5.1.0)\n",
            "Requirement already satisfied: torch in /usr/local/lib/python3.6/dist-packages (from torchvision) (0.3.0.post4)\n",
            "Requirement already satisfied: six in /usr/local/lib/python3.6/dist-packages (from torchvision) (1.11.0)\n",
            "Requirement already satisfied: numpy in /usr/local/lib/python3.6/dist-packages (from torchvision) (1.14.3)\n",
            "Requirement already satisfied: pyyaml in /usr/local/lib/python3.6/dist-packages (from torch->torchvision) (3.12)\n"
          ],
          "name": "stdout"
        }
      ]
    },
    {
      "metadata": {
        "id": "w7j5q45nXY_C",
        "colab_type": "code",
        "colab": {
          "base_uri": "https://localhost:8080/",
          "height": 949
        },
        "outputId": "65bf7928-65b6-4392-d413-0bcac633e9bf"
      },
      "cell_type": "code",
      "source": [
        "!wget https://github.com/VibhuJawa/variational_autoencoders/raw/master/data/new_dataset.zip\n",
        "!unzip new_dataset"
      ],
      "execution_count": 33,
      "outputs": [
        {
          "output_type": "error",
          "ename": "UnboundLocalError",
          "evalue": "ignored",
          "traceback": [
            "\u001b[0;31m---------------------------------------------------------------------------\u001b[0m",
            "\u001b[0;31mKeyboardInterrupt\u001b[0m                         Traceback (most recent call last)",
            "\u001b[0;32m/usr/local/lib/python3.6/dist-packages/IPython/utils/_process_posix.py\u001b[0m in \u001b[0;36msystem\u001b[0;34m(self, cmd)\u001b[0m\n\u001b[1;32m    156\u001b[0m             \u001b[0;32melse\u001b[0m\u001b[0;34m:\u001b[0m\u001b[0;34m\u001b[0m\u001b[0m\n\u001b[0;32m--> 157\u001b[0;31m                 \u001b[0mchild\u001b[0m \u001b[0;34m=\u001b[0m \u001b[0mpexpect\u001b[0m\u001b[0;34m.\u001b[0m\u001b[0mspawn\u001b[0m\u001b[0;34m(\u001b[0m\u001b[0mself\u001b[0m\u001b[0;34m.\u001b[0m\u001b[0msh\u001b[0m\u001b[0;34m,\u001b[0m \u001b[0margs\u001b[0m\u001b[0;34m=\u001b[0m\u001b[0;34m[\u001b[0m\u001b[0;34m'-c'\u001b[0m\u001b[0;34m,\u001b[0m \u001b[0mcmd\u001b[0m\u001b[0;34m]\u001b[0m\u001b[0;34m)\u001b[0m  \u001b[0;31m# Vanilla Pexpect\u001b[0m\u001b[0;34m\u001b[0m\u001b[0m\n\u001b[0m\u001b[1;32m    158\u001b[0m             \u001b[0mflush\u001b[0m \u001b[0;34m=\u001b[0m \u001b[0msys\u001b[0m\u001b[0;34m.\u001b[0m\u001b[0mstdout\u001b[0m\u001b[0;34m.\u001b[0m\u001b[0mflush\u001b[0m\u001b[0;34m\u001b[0m\u001b[0m\n",
            "\u001b[0;32m/usr/local/lib/python3.6/dist-packages/pexpect/pty_spawn.py\u001b[0m in \u001b[0;36m__init__\u001b[0;34m(self, command, args, timeout, maxread, searchwindowsize, logfile, cwd, env, ignore_sighup, echo, preexec_fn, encoding, codec_errors, dimensions, use_poll)\u001b[0m\n\u001b[1;32m    203\u001b[0m         \u001b[0;32melse\u001b[0m\u001b[0;34m:\u001b[0m\u001b[0;34m\u001b[0m\u001b[0m\n\u001b[0;32m--> 204\u001b[0;31m             \u001b[0mself\u001b[0m\u001b[0;34m.\u001b[0m\u001b[0m_spawn\u001b[0m\u001b[0;34m(\u001b[0m\u001b[0mcommand\u001b[0m\u001b[0;34m,\u001b[0m \u001b[0margs\u001b[0m\u001b[0;34m,\u001b[0m \u001b[0mpreexec_fn\u001b[0m\u001b[0;34m,\u001b[0m \u001b[0mdimensions\u001b[0m\u001b[0;34m)\u001b[0m\u001b[0;34m\u001b[0m\u001b[0m\n\u001b[0m\u001b[1;32m    205\u001b[0m         \u001b[0mself\u001b[0m\u001b[0;34m.\u001b[0m\u001b[0muse_poll\u001b[0m \u001b[0;34m=\u001b[0m \u001b[0muse_poll\u001b[0m\u001b[0;34m\u001b[0m\u001b[0m\n",
            "\u001b[0;32m/usr/local/lib/python3.6/dist-packages/pexpect/pty_spawn.py\u001b[0m in \u001b[0;36m_spawn\u001b[0;34m(self, command, args, preexec_fn, dimensions)\u001b[0m\n\u001b[1;32m    302\u001b[0m         self.ptyproc = self._spawnpty(self.args, env=self.env,\n\u001b[0;32m--> 303\u001b[0;31m                                      cwd=self.cwd, **kwargs)\n\u001b[0m\u001b[1;32m    304\u001b[0m \u001b[0;34m\u001b[0m\u001b[0m\n",
            "\u001b[0;32m/usr/local/lib/python3.6/dist-packages/pexpect/pty_spawn.py\u001b[0m in \u001b[0;36m_spawnpty\u001b[0;34m(self, args, **kwargs)\u001b[0m\n\u001b[1;32m    313\u001b[0m         \u001b[0;34m'''Spawn a pty and return an instance of PtyProcess.'''\u001b[0m\u001b[0;34m\u001b[0m\u001b[0m\n\u001b[0;32m--> 314\u001b[0;31m         \u001b[0;32mreturn\u001b[0m \u001b[0mptyprocess\u001b[0m\u001b[0;34m.\u001b[0m\u001b[0mPtyProcess\u001b[0m\u001b[0;34m.\u001b[0m\u001b[0mspawn\u001b[0m\u001b[0;34m(\u001b[0m\u001b[0margs\u001b[0m\u001b[0;34m,\u001b[0m \u001b[0;34m**\u001b[0m\u001b[0mkwargs\u001b[0m\u001b[0;34m)\u001b[0m\u001b[0;34m\u001b[0m\u001b[0m\n\u001b[0m\u001b[1;32m    315\u001b[0m \u001b[0;34m\u001b[0m\u001b[0m\n",
            "\u001b[0;32m/usr/local/lib/python3.6/dist-packages/ptyprocess/ptyprocess.py\u001b[0m in \u001b[0;36mspawn\u001b[0;34m(cls, argv, cwd, env, echo, preexec_fn, dimensions)\u001b[0m\n\u001b[1;32m    301\u001b[0m         \u001b[0mos\u001b[0m\u001b[0;34m.\u001b[0m\u001b[0mclose\u001b[0m\u001b[0;34m(\u001b[0m\u001b[0mexec_err_pipe_write\u001b[0m\u001b[0;34m)\u001b[0m\u001b[0;34m\u001b[0m\u001b[0m\n\u001b[0;32m--> 302\u001b[0;31m         \u001b[0mexec_err_data\u001b[0m \u001b[0;34m=\u001b[0m \u001b[0mos\u001b[0m\u001b[0;34m.\u001b[0m\u001b[0mread\u001b[0m\u001b[0;34m(\u001b[0m\u001b[0mexec_err_pipe_read\u001b[0m\u001b[0;34m,\u001b[0m \u001b[0;36m4096\u001b[0m\u001b[0;34m)\u001b[0m\u001b[0;34m\u001b[0m\u001b[0m\n\u001b[0m\u001b[1;32m    303\u001b[0m         \u001b[0mos\u001b[0m\u001b[0;34m.\u001b[0m\u001b[0mclose\u001b[0m\u001b[0;34m(\u001b[0m\u001b[0mexec_err_pipe_read\u001b[0m\u001b[0;34m)\u001b[0m\u001b[0;34m\u001b[0m\u001b[0m\n",
            "\u001b[0;31mKeyboardInterrupt\u001b[0m: ",
            "\nDuring handling of the above exception, another exception occurred:\n",
            "\u001b[0;31mUnboundLocalError\u001b[0m                         Traceback (most recent call last)",
            "\u001b[0;32m<ipython-input-33-fd06c33aed00>\u001b[0m in \u001b[0;36m<module>\u001b[0;34m()\u001b[0m\n\u001b[0;32m----> 1\u001b[0;31m \u001b[0mget_ipython\u001b[0m\u001b[0;34m(\u001b[0m\u001b[0;34m)\u001b[0m\u001b[0;34m.\u001b[0m\u001b[0msystem\u001b[0m\u001b[0;34m(\u001b[0m\u001b[0;34m'wget https://github.com/VibhuJawa/variational_autoencoders/raw/master/data/new_dataset.zip'\u001b[0m\u001b[0;34m)\u001b[0m\u001b[0;34m\u001b[0m\u001b[0m\n\u001b[0m\u001b[1;32m      2\u001b[0m \u001b[0mget_ipython\u001b[0m\u001b[0;34m(\u001b[0m\u001b[0;34m)\u001b[0m\u001b[0;34m.\u001b[0m\u001b[0msystem\u001b[0m\u001b[0;34m(\u001b[0m\u001b[0;34m'unzip new_dataset'\u001b[0m\u001b[0;34m)\u001b[0m\u001b[0;34m\u001b[0m\u001b[0m\n",
            "\u001b[0;32m/usr/local/lib/python3.6/dist-packages/IPython/core/interactiveshell.py\u001b[0m in \u001b[0;36msystem_piped\u001b[0;34m(self, cmd)\u001b[0m\n\u001b[1;32m   2209\u001b[0m         \u001b[0;31m# a non-None value would trigger :func:`sys.displayhook` calls.\u001b[0m\u001b[0;34m\u001b[0m\u001b[0;34m\u001b[0m\u001b[0m\n\u001b[1;32m   2210\u001b[0m         \u001b[0;31m# Instead, we store the exit_code in user_ns.\u001b[0m\u001b[0;34m\u001b[0m\u001b[0;34m\u001b[0m\u001b[0m\n\u001b[0;32m-> 2211\u001b[0;31m         \u001b[0mself\u001b[0m\u001b[0;34m.\u001b[0m\u001b[0muser_ns\u001b[0m\u001b[0;34m[\u001b[0m\u001b[0;34m'_exit_code'\u001b[0m\u001b[0;34m]\u001b[0m \u001b[0;34m=\u001b[0m \u001b[0msystem\u001b[0m\u001b[0;34m(\u001b[0m\u001b[0mself\u001b[0m\u001b[0;34m.\u001b[0m\u001b[0mvar_expand\u001b[0m\u001b[0;34m(\u001b[0m\u001b[0mcmd\u001b[0m\u001b[0;34m,\u001b[0m \u001b[0mdepth\u001b[0m\u001b[0;34m=\u001b[0m\u001b[0;36m1\u001b[0m\u001b[0;34m)\u001b[0m\u001b[0;34m)\u001b[0m\u001b[0;34m\u001b[0m\u001b[0m\n\u001b[0m\u001b[1;32m   2212\u001b[0m \u001b[0;34m\u001b[0m\u001b[0m\n\u001b[1;32m   2213\u001b[0m     \u001b[0;32mdef\u001b[0m \u001b[0msystem_raw\u001b[0m\u001b[0;34m(\u001b[0m\u001b[0mself\u001b[0m\u001b[0;34m,\u001b[0m \u001b[0mcmd\u001b[0m\u001b[0;34m)\u001b[0m\u001b[0;34m:\u001b[0m\u001b[0;34m\u001b[0m\u001b[0m\n",
            "\u001b[0;32m/usr/local/lib/python3.6/dist-packages/IPython/utils/_process_posix.py\u001b[0m in \u001b[0;36msystem\u001b[0;34m(self, cmd)\u001b[0m\n\u001b[1;32m    171\u001b[0m             \u001b[0;31m# (the character is known as ETX for 'End of Text', see\u001b[0m\u001b[0;34m\u001b[0m\u001b[0;34m\u001b[0m\u001b[0m\n\u001b[1;32m    172\u001b[0m             \u001b[0;31m# curses.ascii.ETX).\u001b[0m\u001b[0;34m\u001b[0m\u001b[0;34m\u001b[0m\u001b[0m\n\u001b[0;32m--> 173\u001b[0;31m             \u001b[0mchild\u001b[0m\u001b[0;34m.\u001b[0m\u001b[0msendline\u001b[0m\u001b[0;34m(\u001b[0m\u001b[0mchr\u001b[0m\u001b[0;34m(\u001b[0m\u001b[0;36m3\u001b[0m\u001b[0;34m)\u001b[0m\u001b[0;34m)\u001b[0m\u001b[0;34m\u001b[0m\u001b[0m\n\u001b[0m\u001b[1;32m    174\u001b[0m             \u001b[0;31m# Read and print any more output the program might produce on its\u001b[0m\u001b[0;34m\u001b[0m\u001b[0;34m\u001b[0m\u001b[0m\n\u001b[1;32m    175\u001b[0m             \u001b[0;31m# way out.\u001b[0m\u001b[0;34m\u001b[0m\u001b[0;34m\u001b[0m\u001b[0m\n",
            "\u001b[0;31mUnboundLocalError\u001b[0m: local variable 'child' referenced before assignment"
          ]
        }
      ]
    },
    {
      "metadata": {
        "id": "mKqJ2q6XalPc",
        "colab_type": "code",
        "colab": {}
      },
      "cell_type": "code",
      "source": [
        "#%reload_ext autoreload        <------------— comment out \n",
        "#%autoreload 0                 <------------— comment out\n",
        "%matplotlib inline\n",
        "import matplotlib.pyplot as plt\n",
        "from matplotlib import rcParams\n",
        "rcParams['axes.grid'] = False\n",
        "from PIL import Image\n",
        "import os\n",
        "\n",
        "import math\n",
        "import numpy as np\n",
        "from scipy import stats\n",
        "import time\n",
        "import itertools\n",
        "\n",
        "import torch\n",
        "from torch.autograd import Variable\n",
        "import torch.nn.functional as F\n",
        "import torchvision\n",
        "\n",
        "from sklearn.model_selection import train_test_split\n",
        "from sklearn.preprocessing import StandardScaler\n",
        "from scipy.misc import imread\n",
        "\n",
        "import pickle\n",
        "import os\n",
        "from pathlib import Path\n",
        "HOME = Path.home()\n",
        "DATA_PATH = HOME \n",
        "\n",
        "NUM_CLASSES = 24\n",
        "CHANNELS = 1\n",
        "HEIGHT = 28\n",
        "WIDTH = 28\n",
        "\n",
        "Z_DIM = 392\n",
        "LEARNING_RATE = 0.01\n",
        "BATCH_SIZE = 128\n",
        "NUM_STEPS = 5000"
      ],
      "execution_count": 0,
      "outputs": []
    },
    {
      "metadata": {
        "id": "whlyTQYbCxbi",
        "colab_type": "code",
        "colab": {}
      },
      "cell_type": "code",
      "source": [
        "with open(os.path.join(DATA_PATH, 'train_set.p'), 'rb') as filename:\n",
        "    content = pickle.load(filename)\n",
        "X_train, y_train = content['data'], content['labels']\n",
        "\n",
        "# Create val set\n",
        "with open(os.path.join(DATA_PATH, 'val_set.p'), 'rb') as filename:\n",
        "    content = pickle.load(filename)\n",
        "X_val, y_val = content['data'], content['labels']\n",
        "\n",
        "# Create val set\n",
        "with open(os.path.join(DATA_PATH, 'test_set.p'), 'rb') as filename:\n",
        "    content = pickle.load(filename)\n",
        "X_test, y_test = content['data'], content['labels']\n"
      ],
      "execution_count": 0,
      "outputs": []
    },
    {
      "metadata": {
        "id": "AAv1-u_WFf_m",
        "colab_type": "code",
        "colab": {}
      },
      "cell_type": "code",
      "source": [
        "scaler = StandardScaler()\n",
        "scaler.fit(X_train)\n",
        "X_train = scaler.transform(X_train)\n",
        "X_val = scaler.transform(X_val)\n",
        "X_test = scaler.transform(X_test)"
      ],
      "execution_count": 0,
      "outputs": []
    },
    {
      "metadata": {
        "id": "ZJsU5u9WhBzN",
        "colab_type": "code",
        "colab": {}
      },
      "cell_type": "code",
      "source": [
        "# We're going to load the official MNIST train set and use\n",
        "# *only* the images (not the labels).\n",
        "train_images = X_train.astype(np.float32)"
      ],
      "execution_count": 0,
      "outputs": []
    },
    {
      "metadata": {
        "id": "cdhHhkpFxTUV",
        "colab_type": "code",
        "colab": {
          "base_uri": "https://localhost:8080/",
          "height": 34
        },
        "outputId": "56e2c17b-3a87-4feb-be80-0ae0ba921b5d"
      },
      "cell_type": "code",
      "source": [
        "print(train_images.shape)"
      ],
      "execution_count": 38,
      "outputs": [
        {
          "output_type": "stream",
          "text": [
            "(21964, 784)\n"
          ],
          "name": "stdout"
        }
      ]
    },
    {
      "metadata": {
        "id": "zeeHcMgtFjua",
        "colab_type": "text"
      },
      "cell_type": "markdown",
      "source": [
        "Let's view a 5 x 5 grid of the first 25 images."
      ]
    },
    {
      "metadata": {
        "id": "DLCrAXtCFj3C",
        "colab_type": "code",
        "colab": {
          "base_uri": "https://localhost:8080/",
          "height": 269
        },
        "outputId": "273cd5fe-4d38-4fb3-ac60-5bdba839db1e"
      },
      "cell_type": "code",
      "source": [
        "image_grid = train_images[:25].reshape(5, 5, HEIGHT, WIDTH)\n",
        "image_grid = np.concatenate(image_grid, axis=1)\n",
        "image_grid = np.concatenate(image_grid, axis=1)\n",
        "plt.imshow(image_grid)\n",
        "plt.grid(False)"
      ],
      "execution_count": 39,
      "outputs": [
        {
          "output_type": "display_data",
          "data": {
            "image/png": "[encoded data removed]",
            "text/plain": [
              "<matplotlib.figure.Figure at 0x7fd78a5994a8>"
            ]
          },
          "metadata": {
            "tags": []
          }
        }
      ]
    },
    {
      "metadata": {
        "id": "wZlPIpgSX26w",
        "colab_type": "text"
      },
      "cell_type": "markdown",
      "source": [
        "Let's convert the images to vectors by flattening them, as we have done in the past:"
      ]
    },
    {
      "metadata": {
        "id": "BmXdidmRm0jh",
        "colab_type": "code",
        "colab": {}
      },
      "cell_type": "code",
      "source": [
        "train_vectors = train_images"
      ],
      "execution_count": 0,
      "outputs": []
    },
    {
      "metadata": {
        "id": "PmWbExBjHPc1",
        "colab_type": "text"
      },
      "cell_type": "markdown",
      "source": [
        "Now let's define a batch function for retrieving examples (which is a modified version of what you've written in the past):"
      ]
    },
    {
      "metadata": {
        "id": "VV-22bUNDRpO",
        "colab_type": "code",
        "colab": {}
      },
      "cell_type": "code",
      "source": [
        "def batch(batch_size, train_vectors):\n",
        "  \"\"\"Create a random batch of examples.\n",
        "    \n",
        "  Args:\n",
        "    batch_size: An integer.\n",
        "  \n",
        "  Returns:\n",
        "    input_batch: A Variable of floats with shape [batch_size, num_features]\n",
        "  \"\"\"\n",
        "  random_ind = np.random.choice(train_vectors.shape[0], size=batch_size, replace=False)\n",
        "  input_batch = train_vectors[random_ind]\n",
        "  input_batch = Variable(torch.from_numpy(input_batch).cuda())\n",
        "  return input_batch"
      ],
      "execution_count": 0,
      "outputs": []
    },
    {
      "metadata": {
        "id": "JMm9XwcDWxnq",
        "colab_type": "text"
      },
      "cell_type": "markdown",
      "source": [
        "**Modify the following cell to complete the decoder. It should**\n",
        "\n",
        "1. Map from our low-dimensional $\\zb$ to a hidden layer of 128 units\n",
        "2. Apply a ReLU nonlinearity\n",
        "3. Map to a hidden layer of 512 hidden units\n",
        "4. Apply a ReLU nonlinearity\n",
        "5. Map to $\\mub_x$ (which resides in $\\mathbb{R}^{784}$)\n",
        "6. (In addition, we return a fixed $\\sigmab_x$, but this is already in place for you.)"
      ]
    },
    {
      "metadata": {
        "id": "7qNPkYhRkwcs",
        "colab_type": "code",
        "colab": {}
      },
      "cell_type": "code",
      "source": [
        "class VAEDecoder(torch.nn.Module):\n",
        "\n",
        "  def __init__(self, z_dim):\n",
        "    super().__init__()\n",
        "    self.z_dim = z_dim\n",
        "    self.linear_1 = torch.nn.Linear(z_dim, 128) # TODO\n",
        "    self.linear_2 = torch.nn.Linear(128, 512) # TODO\n",
        "    \n",
        "    # Use this layer to go from 512 dimension to 784 for MNIST\n",
        "    # Then sample pixel values using the mean and sigma provided\n",
        "    self.linear_3 = torch.nn.Linear(512, HEIGHT * WIDTH) # TODO\n",
        "\n",
        "  def forward(self, z):\n",
        "    h = F.relu(self.linear_1(z)) # TODO\n",
        "    h = F.relu(self.linear_2(h)) # TODO\n",
        "    mu_x = self.linear_3(h) # TODO\n",
        "    sigma_x = Variable(mu_x.data.new(mu_x.shape).fill_(0.1))\n",
        "    return mu_x, sigma_x\n",
        "\n",
        "  def log_p_x_given_z(self, mu_x, sigma_x, x):\n",
        "    dist = torch.distributions.Normal(mu_x, sigma_x)\n",
        "    return dist.log_prob(x).sum()"
      ],
      "execution_count": 0,
      "outputs": []
    },
    {
      "metadata": {
        "id": "p11IhLBlkwV2",
        "colab_type": "code",
        "colab": {}
      },
      "cell_type": "code",
      "source": [
        "class VAEEncoder(torch.nn.Module):\n",
        "\n",
        "  def __init__(self, z_dim):\n",
        "    super().__init__()\n",
        "    self.z_dim = z_dim\n",
        "    self.conv1 = torch.nn.Conv2d(1, 10, kernel_size=5)\n",
        "    self.conv2 = torch.nn.Conv2d(10, 20, kernel_size=5)\n",
        "    self.linear_1 = torch.nn.Linear(320, 128)\n",
        "    self.linear_2 = torch.nn.Linear(128, 2 * z_dim) # TODO\n",
        "\n",
        "  def forward(self, x):\n",
        "    x = x.view(-1,1,28,28)\n",
        "    x = F.relu(F.max_pool2d(self.conv1(x), 2))\n",
        "    x = F.relu(F.max_pool2d(self.conv2(x), 2))\n",
        "    x = x.view(-1, 320)\n",
        "    h = F.relu(self.linear_1(x))\n",
        "    mu_and_pre_sigma = self.linear_2(h) # TODO\n",
        "    mu_z, pre_sigma_z = torch.split(mu_and_pre_sigma, self.z_dim, dim=1) # TODO\n",
        "    sigma_z = F.softplus(pre_sigma_z) # TODO\n",
        "    return mu_z, sigma_z\n",
        "\n",
        "  def rsample(self, mu_z, sigma_z):\n",
        "    # If we truly sample, we break our (deterministic) computation graph.\n",
        "    # This is the reparameterization trick: we sample from a standard\n",
        "    # normal and transform it with mu_z and sigma_z so that we have\n",
        "    # a well-defined computation graph (on which we can run backprop).\n",
        "    standard_normal_samples = Variable(mu_z.data.new(mu_z.shape).normal_())\n",
        "    scaled_samples = sigma_z * standard_normal_samples\n",
        "    shifted_scaled_samples = scaled_samples + mu_z\n",
        "    return shifted_scaled_samples\n",
        "\n",
        "  def kl(self, mu_z, sigma_z):\n",
        "    # This is the KL divergence KL( N(mu_z, diag(sigma_z)) || N(0, I) ) in closed form.\n",
        "    # (It's not difficult to derive; try it!)\n",
        "    kl_q_z_p_z = 0.5 * torch.sum(-2*torch.log(sigma_z) - 1 + sigma_z**2 + mu_z.pow(2))\n",
        "    return kl_q_z_p_z"
      ],
      "execution_count": 0,
      "outputs": []
    },
    {
      "metadata": {
        "id": "MZNEaJZKkwkI",
        "colab_type": "code",
        "colab": {}
      },
      "cell_type": "code",
      "source": [
        "encoder = VAEEncoder(Z_DIM).cuda()\n",
        "decoder = VAEDecoder(Z_DIM).cuda()"
      ],
      "execution_count": 0,
      "outputs": []
    },
    {
      "metadata": {
        "id": "OXLk8rY2kwzc",
        "colab_type": "code",
        "colab": {}
      },
      "cell_type": "code",
      "source": [
        "params = list(itertools.chain(encoder.parameters(), decoder.parameters()))\n",
        "optimizer = torch.optim.Adam(params, 0.001)"
      ],
      "execution_count": 0,
      "outputs": []
    },
    {
      "metadata": {
        "id": "h7CI0F5wWyxI",
        "colab_type": "text"
      },
      "cell_type": "markdown",
      "source": [
        "**Modify the following cell to visualize generated images as we traverse $\\zb$ space from an image to a 1 to an image of a 7. (You should concatenate the images produced by your interpolated $\\zb$'s by concatenating their corresponding images horizontally.)**"
      ]
    },
    {
      "metadata": {
        "id": "oJSqgLinpyuL",
        "colab_type": "code",
        "colab": {}
      },
      "cell_type": "code",
      "source": [
        "import os\n",
        "import numpy as np\n",
        "from sklearn.model_selection import train_test_split\n",
        "from sklearn.preprocessing import StandardScaler\n",
        "from sklearn.ensemble import GradientBoostingClassifier, RandomForestClassifier, AdaBoostClassifier\n",
        "from sklearn.naive_bayes import GaussianNB\n",
        "from sklearn.discriminant_analysis import QuadraticDiscriminantAnalysis\n",
        "from sklearn.linear_model import SGDClassifier, Perceptron, PassiveAggressiveClassifier\n",
        "import pickle\n",
        "import sys\n",
        "from sklearn.externals import joblib\n",
        "from sklearn.manifold import Isomap, LocallyLinearEmbedding\n",
        "\n",
        "import warnings\n",
        "warnings.filterwarnings(\"ignore\")\n",
        "\n",
        "\n",
        "def test_batch(iterable, n=1):\n",
        "    l = len(iterable)\n",
        "    for ndx in range(0, l, n):\n",
        "        yield Variable(torch.from_numpy(iterable[ndx:min(ndx + n, l)]).cuda())\n",
        "\n",
        "def train(samples, encoder, decoder, optimizer):\n",
        "  mu_z, sigma_z = encoder(samples)\n",
        "  z = encoder.rsample(mu_z, sigma_z)\n",
        "  mu_x, sigma_x = decoder(z)\n",
        "  neg_log_p_given_x = -decoder.log_p_x_given_z(mu_x, sigma_x, samples) / samples.shape[0]\n",
        "  kl = encoder.kl(mu_z, sigma_z) / samples.shape[0]\n",
        "  loss = neg_log_p_given_x + kl\n",
        "  optimizer.zero_grad()\n",
        "  loss.backward()\n",
        "  optimizer.step()\n",
        "  return neg_log_p_given_x.data[0], kl.data[0], loss.data[0]\n",
        "\n",
        "def train_VAE(Z_DIM=398, NUM_STEPS = 10000,  BATCH_SIZE = 128):\n",
        "#   classifiers = [(SGDClassifier(loss='hinge'), \"Hinge Loss\"),\n",
        "#                  (SGDClassifier(loss='log'), \"Log Loss\"),\n",
        "#                  (PassiveAggressiveClassifier(), \"Passive Aggressive - Hinge\"),\n",
        "#                  (AdaBoostClassifier(), \"AdaBoost\"),\n",
        "#                  (Perceptron(penalty='l2'), \"Perceptron L2\"),\n",
        "#                  (RandomForestClassifier(n_jobs=-1), \"Random Forest\"),\n",
        "#                  (QuadraticDiscriminantAnalysis(), \"QDA\"),\n",
        "#                  (GradientBoostingClassifier(), \"Gradient Boosting\")]\n",
        "\n",
        "\n",
        "  classifiers = [ (QuadraticDiscriminantAnalysis(), \"QDA\")]\n",
        "  X_train_encoded = []\n",
        "  X_test_encoded = []\n",
        "  X_val_encoded = []\n",
        "\n",
        "  encoder = VAEEncoder(Z_DIM).cuda()\n",
        "  decoder = VAEDecoder(Z_DIM).cuda()\n",
        "  params = list(itertools.chain(encoder.parameters(), decoder.parameters()))\n",
        "  optimizer = torch.optim.Adam(params, 0.1e-3)\n",
        "  loss_list = []\n",
        "  for step in range(NUM_STEPS):\n",
        "    samples = batch(BATCH_SIZE, X_train.astype(np.float32))\n",
        "    loss_list.append(train(samples, encoder, decoder, optimizer))\n",
        "    if step % 200 == 0:\n",
        "      loss = loss_list[-1][2]\n",
        "      print(f'Step {step:05d} / {NUM_STEPS:05d}. Loss: {loss:.2f}.')\n",
        "\n",
        "  neg_log_p, kl, loss = zip(*loss_list)\n",
        "\n",
        "  # X_test, y_test\n",
        "  for samples in test_batch(X_test.astype(np.float32), BATCH_SIZE):  \n",
        "    mu_z, sigma_z = encoder(samples)\n",
        "    z = encoder.rsample(mu_z, sigma_z)\n",
        "    X_test_encoded.extend(z.data.cpu().numpy())\n",
        "  for samples in test_batch(X_train.astype(np.float32), BATCH_SIZE):  \n",
        "    mu_z, sigma_z = encoder(samples)\n",
        "    z = encoder.rsample(mu_z, sigma_z)\n",
        "    X_train_encoded.extend(z.data.cpu().numpy())\n",
        "  for samples in test_batch(X_val.astype(np.float32), BATCH_SIZE):  \n",
        "    mu_z, sigma_z = encoder(samples)\n",
        "    z = encoder.rsample(mu_z, sigma_z)\n",
        "    X_val_encoded.extend(z.data.cpu().numpy())\n",
        "\n",
        "  aname = \"VAE \" + str(Z_DIM)\n",
        "  X_train_encoded = np.asarray(X_train_encoded)\n",
        "  X_val_encoded = np.asarray(X_val_encoded)\n",
        "  X_test_encoded = np.asarray(X_test_encoded)\n",
        "\n",
        "  for clf, name in classifiers:\n",
        "      clf.fit(X_train_encoded, y_train)\n",
        "      print(aname, name, clf.score(X_train_encoded, y_train), clf.score(X_val_encoded, y_val),\n",
        "            clf.score(X_test_encoded, y_test))\n",
        "      sys.stdout.flush()\n",
        "\n",
        "\n"
      ],
      "execution_count": 0,
      "outputs": []
    },
    {
      "metadata": {
        "id": "FmJP2WYgWCuN",
        "colab_type": "code",
        "colab": {
          "base_uri": "https://localhost:8080/",
          "height": 663
        },
        "outputId": "41411a00-770c-43fe-ba05-185260a41d34"
      },
      "cell_type": "code",
      "source": [
        "for n in [392, 196, 98, 49, 24, 12, 6]:\n",
        "  train_VAE(n, 10000)"
      ],
      "execution_count": 0,
      "outputs": [
        {
          "output_type": "stream",
          "text": [
            "Step 00000 / 10000. Loss: 37887.45.\n",
            "Step 00200 / 10000. Loss: 22153.98.\n",
            "Step 00400 / 10000. Loss: 17496.82.\n",
            "Step 00600 / 10000. Loss: 14372.72.\n",
            "Step 00800 / 10000. Loss: 11950.72.\n",
            "Step 01000 / 10000. Loss: 10396.36.\n",
            "Step 01200 / 10000. Loss: 10349.57.\n",
            "Step 01400 / 10000. Loss: 10383.07.\n",
            "Step 01600 / 10000. Loss: 8637.64.\n",
            "Step 01800 / 10000. Loss: 7863.35.\n",
            "Step 02000 / 10000. Loss: 7724.77.\n",
            "Step 02200 / 10000. Loss: 7936.69.\n",
            "Step 02400 / 10000. Loss: 7207.46.\n",
            "Step 02600 / 10000. Loss: 6862.59.\n",
            "Step 02800 / 10000. Loss: 6814.53.\n",
            "Step 03000 / 10000. Loss: 6586.80.\n",
            "Step 03200 / 10000. Loss: 6112.98.\n",
            "Step 03400 / 10000. Loss: 6288.15.\n",
            "Step 03600 / 10000. Loss: 5908.83.\n",
            "Step 03800 / 10000. Loss: 5651.66.\n",
            "Step 04000 / 10000. Loss: 5854.26.\n",
            "Step 04200 / 10000. Loss: 5310.68.\n",
            "Step 04400 / 10000. Loss: 5450.14.\n",
            "Step 04600 / 10000. Loss: 5247.28.\n",
            "Step 04800 / 10000. Loss: 5320.15.\n",
            "Step 05000 / 10000. Loss: 4911.09.\n",
            "Step 05200 / 10000. Loss: 4737.66.\n",
            "Step 05400 / 10000. Loss: 4775.83.\n",
            "Step 05600 / 10000. Loss: 4785.58.\n",
            "Step 05800 / 10000. Loss: 4924.77.\n",
            "Step 06000 / 10000. Loss: 4619.74.\n",
            "Step 06200 / 10000. Loss: 4365.01.\n",
            "Step 06400 / 10000. Loss: 4339.37.\n",
            "Step 06600 / 10000. Loss: 4158.70.\n",
            "Step 06800 / 10000. Loss: 4159.07.\n",
            "Step 07000 / 10000. Loss: 3979.79.\n",
            "Step 07200 / 10000. Loss: 4108.10.\n",
            "Step 07400 / 10000. Loss: 4008.62.\n"
          ],
          "name": "stdout"
        }
      ]
    },
    {
      "metadata": {
        "id": "QBXsSaPFzsts",
        "colab_type": "code",
        "colab": {}
      },
      "cell_type": "code",
      "source": [
        ""
      ],
      "execution_count": 0,
      "outputs": []
    },
    {
      "metadata": {
        "id": "HebI_s-aWxT0",
        "colab_type": "code",
        "colab": {
          "base_uri": "https://localhost:8080/",
          "height": 232
        },
        "outputId": "6284a4ee-0d85-40a0-e8bf-2806c38fcfb4"
      },
      "cell_type": "code",
      "source": [
        "z_1 = z[1] # TODO\n",
        "z_7 = z[4] # TODO\n",
        "mixture_coefs = Variable(torch.arange(0.0, 1.0, 0.05).cuda()).view(-1, 1)\n",
        "z_interp = (1.0 - mixture_coefs)**.5 * z_1 + mixture_coefs**.5 * z_7\n",
        "mu_x, sigma_x = decoder(z_interp) # TODO\n",
        "mu_x = mu_x.view(-1, HEIGHT, WIDTH).data.cpu().numpy() # TODO\n",
        "mu_x = np.concatenate(mu_x, axis=1) # TODO\n",
        "plt.figure(figsize=(25, 5))\n",
        "plt.set_cmap('gray')\n",
        "plt.imshow(mu_x)"
      ],
      "execution_count": 0,
      "outputs": [
        {
          "output_type": "error",
          "ename": "NameError",
          "evalue": "ignored",
          "traceback": [
            "\u001b[0;31m---------------------------------------------------------------------------\u001b[0m",
            "\u001b[0;31mNameError\u001b[0m                                 Traceback (most recent call last)",
            "\u001b[0;32m<ipython-input-54-2502f8cb20ac>\u001b[0m in \u001b[0;36m<module>\u001b[0;34m()\u001b[0m\n\u001b[0;32m----> 1\u001b[0;31m \u001b[0mz_1\u001b[0m \u001b[0;34m=\u001b[0m \u001b[0mz\u001b[0m\u001b[0;34m[\u001b[0m\u001b[0;36m1\u001b[0m\u001b[0;34m]\u001b[0m \u001b[0;31m# TODO\u001b[0m\u001b[0;34m\u001b[0m\u001b[0m\n\u001b[0m\u001b[1;32m      2\u001b[0m \u001b[0mz_7\u001b[0m \u001b[0;34m=\u001b[0m \u001b[0mz\u001b[0m\u001b[0;34m[\u001b[0m\u001b[0;36m4\u001b[0m\u001b[0;34m]\u001b[0m \u001b[0;31m# TODO\u001b[0m\u001b[0;34m\u001b[0m\u001b[0m\n\u001b[1;32m      3\u001b[0m \u001b[0mmixture_coefs\u001b[0m \u001b[0;34m=\u001b[0m \u001b[0mVariable\u001b[0m\u001b[0;34m(\u001b[0m\u001b[0mtorch\u001b[0m\u001b[0;34m.\u001b[0m\u001b[0marange\u001b[0m\u001b[0;34m(\u001b[0m\u001b[0;36m0.0\u001b[0m\u001b[0;34m,\u001b[0m \u001b[0;36m1.0\u001b[0m\u001b[0;34m,\u001b[0m \u001b[0;36m0.05\u001b[0m\u001b[0;34m)\u001b[0m\u001b[0;34m.\u001b[0m\u001b[0mcuda\u001b[0m\u001b[0;34m(\u001b[0m\u001b[0;34m)\u001b[0m\u001b[0;34m)\u001b[0m\u001b[0;34m.\u001b[0m\u001b[0mview\u001b[0m\u001b[0;34m(\u001b[0m\u001b[0;34m-\u001b[0m\u001b[0;36m1\u001b[0m\u001b[0;34m,\u001b[0m \u001b[0;36m1\u001b[0m\u001b[0;34m)\u001b[0m\u001b[0;34m\u001b[0m\u001b[0m\n\u001b[1;32m      4\u001b[0m \u001b[0mz_interp\u001b[0m \u001b[0;34m=\u001b[0m \u001b[0;34m(\u001b[0m\u001b[0;36m1.0\u001b[0m \u001b[0;34m-\u001b[0m \u001b[0mmixture_coefs\u001b[0m\u001b[0;34m)\u001b[0m\u001b[0;34m**\u001b[0m\u001b[0;36m.5\u001b[0m \u001b[0;34m*\u001b[0m \u001b[0mz_1\u001b[0m \u001b[0;34m+\u001b[0m \u001b[0mmixture_coefs\u001b[0m\u001b[0;34m**\u001b[0m\u001b[0;36m.5\u001b[0m \u001b[0;34m*\u001b[0m \u001b[0mz_7\u001b[0m\u001b[0;34m\u001b[0m\u001b[0m\n\u001b[1;32m      5\u001b[0m \u001b[0mmu_x\u001b[0m\u001b[0;34m,\u001b[0m \u001b[0msigma_x\u001b[0m \u001b[0;34m=\u001b[0m \u001b[0mdecoder\u001b[0m\u001b[0;34m(\u001b[0m\u001b[0mz_interp\u001b[0m\u001b[0;34m)\u001b[0m \u001b[0;31m# TODO\u001b[0m\u001b[0;34m\u001b[0m\u001b[0m\n",
            "\u001b[0;31mNameError\u001b[0m: name 'z' is not defined"
          ]
        }
      ]
    },
    {
      "metadata": {
        "id": "QSwjVABFqVGa",
        "colab_type": "code",
        "colab": {
          "base_uri": "https://localhost:8080/",
          "height": 232
        },
        "outputId": "1ef653c9-34f2-49d8-ee8b-6929a92ade41"
      },
      "cell_type": "code",
      "source": [
        "samples = batch(10)\n",
        "\n",
        "mu_z, sigma_z = encoder(samples)\n",
        "z = encoder.rsample(mu_z, sigma_z)\n",
        "mu_x, sigma_x = decoder(z)\n",
        "\n",
        "samples = samples.view(-1, HEIGHT, WIDTH).data.cpu().numpy()\n",
        "samples = np.concatenate(samples, axis=1)\n",
        "mu_x = mu_x.view(-1, HEIGHT, WIDTH).data.cpu().numpy()\n",
        "mu_x = np.concatenate(mu_x, axis=1)\n",
        "plt.figure(figsize=(15, 5))\n",
        "plt.set_cmap('gray')\n",
        "plt.imshow(np.concatenate([samples, mu_x], axis=0))"
      ],
      "execution_count": 55,
      "outputs": [
        {
          "output_type": "error",
          "ename": "TypeError",
          "evalue": "ignored",
          "traceback": [
            "\u001b[0;31m---------------------------------------------------------------------------\u001b[0m",
            "\u001b[0;31mTypeError\u001b[0m                                 Traceback (most recent call last)",
            "\u001b[0;32m<ipython-input-55-180f61084957>\u001b[0m in \u001b[0;36m<module>\u001b[0;34m()\u001b[0m\n\u001b[0;32m----> 1\u001b[0;31m \u001b[0msamples\u001b[0m \u001b[0;34m=\u001b[0m \u001b[0mbatch\u001b[0m\u001b[0;34m(\u001b[0m\u001b[0;36m10\u001b[0m\u001b[0;34m)\u001b[0m\u001b[0;34m\u001b[0m\u001b[0m\n\u001b[0m\u001b[1;32m      2\u001b[0m \u001b[0;34m\u001b[0m\u001b[0m\n\u001b[1;32m      3\u001b[0m \u001b[0mmu_z\u001b[0m\u001b[0;34m,\u001b[0m \u001b[0msigma_z\u001b[0m \u001b[0;34m=\u001b[0m \u001b[0mencoder\u001b[0m\u001b[0;34m(\u001b[0m\u001b[0msamples\u001b[0m\u001b[0;34m)\u001b[0m\u001b[0;34m\u001b[0m\u001b[0m\n\u001b[1;32m      4\u001b[0m \u001b[0mz\u001b[0m \u001b[0;34m=\u001b[0m \u001b[0mencoder\u001b[0m\u001b[0;34m.\u001b[0m\u001b[0mrsample\u001b[0m\u001b[0;34m(\u001b[0m\u001b[0mmu_z\u001b[0m\u001b[0;34m,\u001b[0m \u001b[0msigma_z\u001b[0m\u001b[0;34m)\u001b[0m\u001b[0;34m\u001b[0m\u001b[0m\n\u001b[1;32m      5\u001b[0m \u001b[0mmu_x\u001b[0m\u001b[0;34m,\u001b[0m \u001b[0msigma_x\u001b[0m \u001b[0;34m=\u001b[0m \u001b[0mdecoder\u001b[0m\u001b[0;34m(\u001b[0m\u001b[0mz\u001b[0m\u001b[0;34m)\u001b[0m\u001b[0;34m\u001b[0m\u001b[0m\n",
            "\u001b[0;31mTypeError\u001b[0m: batch() missing 1 required positional argument: 'train_vectors'"
          ]
        }
      ]
    }
  ]
}