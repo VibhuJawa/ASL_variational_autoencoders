{
  "nbformat": 4,
  "nbformat_minor": 0,
  "metadata": {
    "colab": {
      "name": "VAE-ALS-ConvNets",
      "version": "0.3.2",
      "provenance": [],
      "collapsed_sections": [],
      "include_colab_link": true
    },
    "kernelspec": {
      "name": "python3",
      "display_name": "Python 3"
    },
    "accelerator": "GPU"
  },
  "cells": [
    {
      "cell_type": "markdown",
      "metadata": {
        "id": "view-in-github",
        "colab_type": "text"
      },
      "source": [
        "[View in Colaboratory](https://colab.research.google.com/github/VibhuJawa/ASL_variational_autoencoders/blob/master/VAE_ALS_ConvNets.ipynb)"
      ]
    },
    {
      "metadata": {
        "id": "Cq1t9bGsDTvi",
        "colab_type": "text"
      },
      "cell_type": "markdown",
      "source": [
        "### Custom LaTeX commands (do not delete this cell)\n",
        "\n",
        "\n",
        "\n",
        "$$\n",
        "\\DeclareMathOperator{\\softmax}{softmax}\n",
        "\\DeclareMathOperator{\\sigmoid}{sigmoid}\n",
        "\\DeclareMathOperator{\\softplus}{softplus}\n",
        "\\DeclareMathOperator{\\diag}{diag}\n",
        "\\DeclareMathOperator{\\Categorical}{Categorical}\n",
        "\\DeclareMathOperator{\\Normal}{Normal}\n",
        "\\DeclareMathOperator{\\E}{E}\n",
        "\\DeclareMathOperator{\\KL}{KL}\n",
        "\\DeclareMathOperator{\\ELBO}{ELBO}\n",
        "\\newcommand{\\xb}{\\boldsymbol{x}}\n",
        "\\newcommand{\\zb}{\\boldsymbol{z}}\n",
        "\\newcommand{\\Ib}{\\boldsymbol{I}}\n",
        "\\newcommand{\\mub}{\\boldsymbol{\\mu}}\n",
        "\\newcommand{\\sigmab}{\\boldsymbol{\\sigma}}\n",
        "\\newcommand{\\0}{\\boldsymbol{0}}\n",
        "$$"
      ]
    },
    {
      "metadata": {
        "id": "bfyI_9zZPwsa",
        "colab_type": "text"
      },
      "cell_type": "markdown",
      "source": [
        "# Variational Autoencoders"
      ]
    },
    {
      "metadata": {
        "id": "r3ce0VVgXqQ2",
        "colab_type": "code",
        "colab": {
          "base_uri": "https://localhost:8080/",
          "height": 411
        },
        "outputId": "21141446-73ec-4c6e-f8b6-405ed8ce4831"
      },
      "cell_type": "code",
      "source": [
        "!pip3 install http://download.pytorch.org/whl/cu80/torch-0.3.0.post4-cp36-cp36m-linux_x86_64.whl\n",
        "!pip3 install torchvision"
      ],
      "execution_count": 1,
      "outputs": [
        {
          "output_type": "stream",
          "text": [
            "Collecting torch==0.3.0.post4 from http://download.pytorch.org/whl/cu80/torch-0.3.0.post4-cp36-cp36m-linux_x86_64.whl\n",
            "\u001b[?25l  Downloading http://download.pytorch.org/whl/cu80/torch-0.3.0.post4-cp36-cp36m-linux_x86_64.whl (592.3MB)\n",
            "\u001b[K    100% |████████████████████████████████| 592.3MB 9.3MB/s \n",
            "\u001b[?25hRequirement already satisfied: pyyaml in /usr/local/lib/python3.6/dist-packages (from torch==0.3.0.post4) (3.13)\n",
            "Requirement already satisfied: numpy in /usr/local/lib/python3.6/dist-packages (from torch==0.3.0.post4) (1.14.5)\n",
            "Installing collected packages: torch\n",
            "Successfully installed torch-0.3.0.post4\n",
            "Collecting torchvision\n",
            "\u001b[?25l  Downloading https://files.pythonhosted.org/packages/ca/0d/f00b2885711e08bd71242ebe7b96561e6f6d01fdb4b9dcf4d37e2e13c5e1/torchvision-0.2.1-py2.py3-none-any.whl (54kB)\n",
            "\u001b[K    100% |████████████████████████████████| 61kB 2.3MB/s \n"
          ],
          "name": "stdout"
        },
        {
          "output_type": "stream",
          "text": [
            "\u001b[?25hRequirement already satisfied: torch in /usr/local/lib/python3.6/dist-packages (from torchvision) (0.3.0.post4)\r\n",
            "Requirement already satisfied: six in /usr/local/lib/python3.6/dist-packages (from torchvision) (1.11.0)\r\n",
            "Collecting pillow>=4.1.1 (from torchvision)\n",
            "\u001b[?25l  Downloading https://files.pythonhosted.org/packages/d1/24/f53ff6b61b3d728b90934bddb4f03f8ab584a7f49299bf3bde56e2952612/Pillow-5.2.0-cp36-cp36m-manylinux1_x86_64.whl (2.0MB)\n",
            "\u001b[K    100% |████████████████████████████████| 2.0MB 8.5MB/s \n",
            "\u001b[?25hRequirement already satisfied: numpy in /usr/local/lib/python3.6/dist-packages (from torchvision) (1.14.5)\n",
            "Requirement already satisfied: pyyaml in /usr/local/lib/python3.6/dist-packages (from torch->torchvision) (3.13)\n",
            "Installing collected packages: pillow, torchvision\n",
            "  Found existing installation: Pillow 4.0.0\n",
            "    Uninstalling Pillow-4.0.0:\n",
            "      Successfully uninstalled Pillow-4.0.0\n",
            "Successfully installed pillow-5.2.0 torchvision-0.2.1\n"
          ],
          "name": "stdout"
        }
      ]
    },
    {
      "metadata": {
        "id": "w7j5q45nXY_C",
        "colab_type": "code",
        "colab": {
          "base_uri": "https://localhost:8080/",
          "height": 425
        },
        "outputId": "765c47b1-0162-453a-83a8-8ff3215613af"
      },
      "cell_type": "code",
      "source": [
        "!wget https://github.com/VibhuJawa/variational_autoencoders/raw/master/data/new_dataset.zip\n",
        "!unzip new_dataset"
      ],
      "execution_count": 2,
      "outputs": [
        {
          "output_type": "stream",
          "text": [
            "--2018-07-17 07:56:09--  https://github.com/VibhuJawa/variational_autoencoders/raw/master/data/new_dataset.zip\n",
            "Resolving github.com (github.com)... 192.30.253.112, 192.30.253.113\n",
            "Connecting to github.com (github.com)|192.30.253.112|:443... connected.\n",
            "HTTP request sent, awaiting response... 301 Moved Permanently\n",
            "Location: https://github.com/VibhuJawa/ASL_variational_autoencoders/raw/master/data/new_dataset.zip [following]\n",
            "--2018-07-17 07:56:09--  https://github.com/VibhuJawa/ASL_variational_autoencoders/raw/master/data/new_dataset.zip\n",
            "Reusing existing connection to github.com:443.\n",
            "HTTP request sent, awaiting response... 302 Found\n",
            "Location: https://raw.githubusercontent.com/VibhuJawa/ASL_variational_autoencoders/master/data/new_dataset.zip [following]\n",
            "--2018-07-17 07:56:09--  https://raw.githubusercontent.com/VibhuJawa/ASL_variational_autoencoders/master/data/new_dataset.zip\n",
            "Resolving raw.githubusercontent.com (raw.githubusercontent.com)... 151.101.0.133, 151.101.64.133, 151.101.128.133, ...\n",
            "Connecting to raw.githubusercontent.com (raw.githubusercontent.com)|151.101.0.133|:443... connected.\n",
            "HTTP request sent, awaiting response... 200 OK\n",
            "Length: 37349251 (36M) [application/zip]\n",
            "Saving to: ‘new_dataset.zip’\n",
            "\n",
            "new_dataset.zip     100%[===================>]  35.62M  43.5MB/s    in 0.8s    \n",
            "\n",
            "2018-07-17 07:56:11 (43.5 MB/s) - ‘new_dataset.zip’ saved [37349251/37349251]\n",
            "\n",
            "Archive:  new_dataset.zip\n",
            "  inflating: test_set.p              \n",
            "  inflating: train_set.p             \n",
            "  inflating: val_set.p               \n"
          ],
          "name": "stdout"
        }
      ]
    },
    {
      "metadata": {
        "id": "mKqJ2q6XalPc",
        "colab_type": "code",
        "colab": {}
      },
      "cell_type": "code",
      "source": [
        "#%reload_ext autoreload        <------------— comment out \n",
        "#%autoreload 0                 <------------— comment out\n",
        "%matplotlib inline\n",
        "import matplotlib.pyplot as plt\n",
        "from matplotlib import rcParams\n",
        "rcParams['axes.grid'] = False\n",
        "from PIL import Image\n",
        "import os\n",
        "\n",
        "import math\n",
        "import numpy as np\n",
        "from scipy import stats\n",
        "import time\n",
        "import itertools\n",
        "\n",
        "import torch\n",
        "from torch.autograd import Variable\n",
        "import torch.nn.functional as F\n",
        "import torchvision\n",
        "\n",
        "from sklearn.model_selection import train_test_split\n",
        "from sklearn.preprocessing import StandardScaler\n",
        "from scipy.misc import imread\n",
        "\n",
        "import pickle\n",
        "import os\n",
        "from pathlib import Path\n",
        "HOME = Path.home()\n",
        "DATA_PATH = HOME \n",
        "\n",
        "NUM_CLASSES = 24\n",
        "CHANNELS = 1\n",
        "HEIGHT = 28\n",
        "WIDTH = 28\n",
        "\n",
        "Z_DIM = 392\n",
        "LEARNING_RATE = 0.01\n",
        "BATCH_SIZE = 128\n",
        "NUM_STEPS = 5000"
      ],
      "execution_count": 0,
      "outputs": []
    },
    {
      "metadata": {
        "id": "whlyTQYbCxbi",
        "colab_type": "code",
        "colab": {}
      },
      "cell_type": "code",
      "source": [
        "with open(os.path.join(DATA_PATH, 'train_set.p'), 'rb') as filename:\n",
        "    content = pickle.load(filename)\n",
        "X_train, y_train = content['data'], content['labels']\n",
        "\n",
        "# Create val set\n",
        "with open(os.path.join(DATA_PATH, 'val_set.p'), 'rb') as filename:\n",
        "    content = pickle.load(filename)\n",
        "X_val, y_val = content['data'], content['labels']\n",
        "\n",
        "# Create val set\n",
        "with open(os.path.join(DATA_PATH, 'test_set.p'), 'rb') as filename:\n",
        "    content = pickle.load(filename)\n",
        "X_test, y_test = content['data'], content['labels']\n"
      ],
      "execution_count": 0,
      "outputs": []
    },
    {
      "metadata": {
        "id": "AAv1-u_WFf_m",
        "colab_type": "code",
        "colab": {
          "base_uri": "https://localhost:8080/",
          "height": 71
        },
        "outputId": "a8ea7c9c-4c93-4500-fdf9-b6092ca280bb"
      },
      "cell_type": "code",
      "source": [
        "scaler = StandardScaler()\n",
        "scaler.fit(X_train)\n",
        "X_train = scaler.transform(X_train)\n",
        "X_val = scaler.transform(X_val)\n",
        "X_test = scaler.transform(X_test)"
      ],
      "execution_count": 5,
      "outputs": [
        {
          "output_type": "stream",
          "text": [
            "/usr/local/lib/python3.6/dist-packages/sklearn/utils/validation.py:475: DataConversionWarning: Data with input dtype int64 was converted to float64 by StandardScaler.\n",
            "  warnings.warn(msg, DataConversionWarning)\n"
          ],
          "name": "stderr"
        }
      ]
    },
    {
      "metadata": {
        "id": "ZJsU5u9WhBzN",
        "colab_type": "code",
        "colab": {}
      },
      "cell_type": "code",
      "source": [
        "train_images = X_train.astype(np.float32)"
      ],
      "execution_count": 0,
      "outputs": []
    },
    {
      "metadata": {
        "id": "cdhHhkpFxTUV",
        "colab_type": "code",
        "colab": {
          "base_uri": "https://localhost:8080/",
          "height": 34
        },
        "outputId": "7d2e8e9c-632d-45d6-d65d-e4371fa6c664"
      },
      "cell_type": "code",
      "source": [
        "print(train_images.shape)"
      ],
      "execution_count": 16,
      "outputs": [
        {
          "output_type": "stream",
          "text": [
            "(21964, 784)\n"
          ],
          "name": "stdout"
        }
      ]
    },
    {
      "metadata": {
        "id": "zeeHcMgtFjua",
        "colab_type": "text"
      },
      "cell_type": "markdown",
      "source": [
        "  ### A 5 x 5 grid of the first 25 images."
      ]
    },
    {
      "metadata": {
        "id": "DLCrAXtCFj3C",
        "colab_type": "code",
        "colab": {
          "base_uri": "https://localhost:8080/",
          "height": 269
        },
        "outputId": "734131dd-962e-473e-9d48-0a90b985e272"
      },
      "cell_type": "code",
      "source": [
        "image_grid = train_images[:25].reshape(5, 5, HEIGHT, WIDTH)\n",
        "image_grid = np.concatenate(image_grid, axis=1)\n",
        "image_grid = np.concatenate(image_grid, axis=1)\n",
        "plt.imshow(image_grid)\n",
        "plt.grid(False)"
      ],
      "execution_count": 17,
      "outputs": [
        {
          "output_type": "display_data",
          "data": {
            "image/png": "[encoded data removed]",
            "text/plain": [
              "<matplotlib.figure.Figure at 0x7f7bc29ed3c8>"
            ]
          },
          "metadata": {
            "tags": []
          }
        }
      ]
    },
    {
      "metadata": {
        "id": "BmXdidmRm0jh",
        "colab_type": "code",
        "colab": {}
      },
      "cell_type": "code",
      "source": [
        "train_vectors = train_images"
      ],
      "execution_count": 0,
      "outputs": []
    },
    {
      "metadata": {
        "id": "PmWbExBjHPc1",
        "colab_type": "text"
      },
      "cell_type": "markdown",
      "source": [
        "## Batch function for retrieving examples"
      ]
    },
    {
      "metadata": {
        "id": "VV-22bUNDRpO",
        "colab_type": "code",
        "colab": {}
      },
      "cell_type": "code",
      "source": [
        "def batch(batch_size, train_vectors):\n",
        "  \"\"\"Create a random batch of examples.\n",
        "    \n",
        "  Args:\n",
        "    batch_size: An integer.\n",
        "  \n",
        "  Returns:\n",
        "    input_batch: A Variable of floats with shape [batch_size, num_features]\n",
        "  \"\"\"\n",
        "  random_ind = np.random.choice(train_vectors.shape[0], size=batch_size, replace=False)\n",
        "  input_batch = train_vectors[random_ind]\n",
        "  input_batch = Variable(torch.from_numpy(input_batch).cuda())\n",
        "  return input_batch"
      ],
      "execution_count": 0,
      "outputs": []
    },
    {
      "metadata": {
        "id": "JMm9XwcDWxnq",
        "colab_type": "text"
      },
      "cell_type": "markdown",
      "source": [
        "**Decoder steps*\n",
        "\n",
        "1. Map from our low-dimensional $\\zb$ to a hidden layer of 128 units\n",
        "2. Apply a ReLU nonlinearity\n",
        "3. Map to a hidden layer of 512 hidden units\n",
        "4. Apply a ReLU nonlinearity\n",
        "5. Map to $\\mub_x$ (which resides in $\\mathbb{R}^{784}$)\n",
        "6. (In addition, we return a fixed $\\sigmab_x$, but this is already in place for you.)"
      ]
    },
    {
      "metadata": {
        "id": "7qNPkYhRkwcs",
        "colab_type": "code",
        "colab": {}
      },
      "cell_type": "code",
      "source": [
        "class VAEDecoder(torch.nn.Module):\n",
        "\n",
        "  def __init__(self, z_dim):\n",
        "    super().__init__()\n",
        "    self.z_dim = z_dim\n",
        "    self.linear_1 = torch.nn.Linear(z_dim, 128) \n",
        "    self.linear_2 = torch.nn.Linear(128, 512) \n",
        "    \n",
        "    # Use this layer to go from 512 dimension to 784 for MNIST\n",
        "    # Then sample pixel values using the mean and sigma provided\n",
        "    self.linear_3 = torch.nn.Linear(512, HEIGHT * WIDTH) \n",
        "\n",
        "  def forward(self, z):\n",
        "    h = F.relu(self.linear_1(z)) \n",
        "    h = F.relu(self.linear_2(h)) \n",
        "    mu_x = self.linear_3(h) \n",
        "    sigma_x = Variable(mu_x.data.new(mu_x.shape).fill_(0.1))\n",
        "    return mu_x, sigma_x\n",
        "\n",
        "  def log_p_x_given_z(self, mu_x, sigma_x, x):\n",
        "    dist = torch.distributions.Normal(mu_x, sigma_x)\n",
        "    return dist.log_prob(x).sum()"
      ],
      "execution_count": 0,
      "outputs": []
    },
    {
      "metadata": {
        "id": "p11IhLBlkwV2",
        "colab_type": "code",
        "colab": {}
      },
      "cell_type": "code",
      "source": [
        "class VAEEncoder(torch.nn.Module):\n",
        "\n",
        "  def __init__(self, z_dim):\n",
        "    super().__init__()\n",
        "    self.z_dim = z_dim\n",
        "    self.conv1 = torch.nn.Conv2d(1, 10, kernel_size=5)\n",
        "    self.conv2 = torch.nn.Conv2d(10, 20, kernel_size=5)\n",
        "    self.linear_1 = torch.nn.Linear(320, 128)\n",
        "    self.linear_2 = torch.nn.Linear(128, 2 * z_dim) \n",
        "\n",
        "  def forward(self, x):\n",
        "    x = x.view(-1,1,28,28)\n",
        "    x = F.relu(F.max_pool2d(self.conv1(x), 2))\n",
        "    x = F.relu(F.max_pool2d(self.conv2(x), 2))\n",
        "    x = x.view(-1, 320)\n",
        "    h = F.relu(self.linear_1(x))\n",
        "    mu_and_pre_sigma = self.linear_2(h)\n",
        "    mu_z, pre_sigma_z = torch.split(mu_and_pre_sigma, self.z_dim, dim=1) \n",
        "    sigma_z = F.softplus(pre_sigma_z) \n",
        "    return mu_z, sigma_z\n",
        "\n",
        "  def rsample(self, mu_z, sigma_z):\n",
        "    # If we truly sample, we break our (deterministic) computation graph.\n",
        "    # This is the reparameterization trick: we sample from a standard\n",
        "    # normal and transform it with mu_z and sigma_z so that we have\n",
        "    # a well-defined computation graph (on which we can run backprop).\n",
        "    standard_normal_samples = Variable(mu_z.data.new(mu_z.shape).normal_())\n",
        "    scaled_samples = sigma_z * standard_normal_samples\n",
        "    shifted_scaled_samples = scaled_samples + mu_z\n",
        "    return shifted_scaled_samples\n",
        "\n",
        "  def kl(self, mu_z, sigma_z):\n",
        "    # This is the KL divergence KL( N(mu_z, diag(sigma_z)) || N(0, I) ) in closed form.\n",
        "    # (It's not difficult to derive; try it!)\n",
        "    kl_q_z_p_z = 0.5 * torch.sum(-2*torch.log(sigma_z) - 1 + sigma_z**2 + mu_z.pow(2))\n",
        "    return kl_q_z_p_z"
      ],
      "execution_count": 0,
      "outputs": []
    },
    {
      "metadata": {
        "id": "MZNEaJZKkwkI",
        "colab_type": "code",
        "colab": {}
      },
      "cell_type": "code",
      "source": [
        "encoder = VAEEncoder(Z_DIM).cuda()\n",
        "decoder = VAEDecoder(Z_DIM).cuda()"
      ],
      "execution_count": 0,
      "outputs": []
    },
    {
      "metadata": {
        "id": "OXLk8rY2kwzc",
        "colab_type": "code",
        "colab": {}
      },
      "cell_type": "code",
      "source": [
        "params = list(itertools.chain(encoder.parameters(), decoder.parameters()))\n",
        "optimizer = torch.optim.Adam(params, 0.001)"
      ],
      "execution_count": 0,
      "outputs": []
    },
    {
      "metadata": {
        "id": "h7CI0F5wWyxI",
        "colab_type": "text"
      },
      "cell_type": "markdown",
      "source": [
        ""
      ]
    },
    {
      "metadata": {
        "id": "oJSqgLinpyuL",
        "colab_type": "code",
        "colab": {}
      },
      "cell_type": "code",
      "source": [
        "import os\n",
        "import numpy as np\n",
        "from sklearn.model_selection import train_test_split\n",
        "from sklearn.preprocessing import StandardScaler\n",
        "from sklearn.ensemble import GradientBoostingClassifier, RandomForestClassifier, AdaBoostClassifier\n",
        "from sklearn.naive_bayes import GaussianNB\n",
        "from sklearn.discriminant_analysis import QuadraticDiscriminantAnalysis\n",
        "from sklearn.linear_model import SGDClassifier, Perceptron, PassiveAggressiveClassifier\n",
        "import pickle\n",
        "import sys\n",
        "from sklearn.externals import joblib\n",
        "from sklearn.manifold import Isomap, LocallyLinearEmbedding\n",
        "\n",
        "import warnings\n",
        "warnings.filterwarnings(\"ignore\")\n",
        "\n",
        "\n",
        "def test_batch(iterable, n=1):\n",
        "    l = len(iterable)\n",
        "    for ndx in range(0, l, n):\n",
        "        yield Variable(torch.from_numpy(iterable[ndx:min(ndx + n, l)]).cuda())\n",
        "\n",
        "def train(samples, encoder, decoder, optimizer):\n",
        "  mu_z, sigma_z = encoder(samples)\n",
        "  z = encoder.rsample(mu_z, sigma_z)\n",
        "  mu_x, sigma_x = decoder(z)\n",
        "  neg_log_p_given_x = -decoder.log_p_x_given_z(mu_x, sigma_x, samples) / samples.shape[0]\n",
        "  kl = encoder.kl(mu_z, sigma_z) / samples.shape[0]\n",
        "  loss = neg_log_p_given_x + kl\n",
        "  optimizer.zero_grad()\n",
        "  loss.backward()\n",
        "  optimizer.step()\n",
        "  return neg_log_p_given_x.data[0], kl.data[0], loss.data[0]\n",
        "\n",
        "def train_VAE(Z_DIM=398, NUM_STEPS = 10000,  BATCH_SIZE = 128):\n",
        "#   classifiers = [(SGDClassifier(loss='hinge'), \"Hinge Loss\"),\n",
        "#                  (SGDClassifier(loss='log'), \"Log Loss\"),\n",
        "#                  (PassiveAggressiveClassifier(), \"Passive Aggressive - Hinge\"),\n",
        "#                  (AdaBoostClassifier(), \"AdaBoost\"),\n",
        "#                  (Perceptron(penalty='l2'), \"Perceptron L2\"),\n",
        "#                  (RandomForestClassifier(n_jobs=-1), \"Random Forest\"),\n",
        "#                  (QuadraticDiscriminantAnalysis(), \"QDA\"),\n",
        "#                  (GradientBoostingClassifier(), \"Gradient Boosting\")]\n",
        "\n",
        "\n",
        "  classifiers = [ (QuadraticDiscriminantAnalysis(), \"QDA\")]\n",
        "  X_train_encoded = []\n",
        "  X_test_encoded = []\n",
        "  X_val_encoded = []\n",
        "\n",
        "  encoder = VAEEncoder(Z_DIM).cuda()\n",
        "  decoder = VAEDecoder(Z_DIM).cuda()\n",
        "  params = list(itertools.chain(encoder.parameters(), decoder.parameters()))\n",
        "  optimizer = torch.optim.Adam(params, 0.1e-3)\n",
        "  loss_list = []\n",
        "  for step in range(NUM_STEPS):\n",
        "    samples = batch(BATCH_SIZE, X_train.astype(np.float32))\n",
        "    loss_list.append(train(samples, encoder, decoder, optimizer))\n",
        "    if step % 200 == 0:\n",
        "      loss = loss_list[-1][2]\n",
        "      print(f'Step {step:05d} / {NUM_STEPS:05d}. Loss: {loss:.2f}.')\n",
        "\n",
        "  neg_log_p, kl, loss = zip(*loss_list)\n",
        "\n",
        "  # X_test, y_test\n",
        "  for samples in test_batch(X_test.astype(np.float32), BATCH_SIZE):  \n",
        "    mu_z, sigma_z = encoder(samples)\n",
        "    z = encoder.rsample(mu_z, sigma_z)\n",
        "    X_test_encoded.extend(z.data.cpu().numpy())\n",
        "  for samples in test_batch(X_train.astype(np.float32), BATCH_SIZE):  \n",
        "    mu_z, sigma_z = encoder(samples)\n",
        "    z = encoder.rsample(mu_z, sigma_z)\n",
        "    X_train_encoded.extend(z.data.cpu().numpy())\n",
        "  for samples in test_batch(X_val.astype(np.float32), BATCH_SIZE):  \n",
        "    mu_z, sigma_z = encoder(samples)\n",
        "    z = encoder.rsample(mu_z, sigma_z)\n",
        "    X_val_encoded.extend(z.data.cpu().numpy())\n",
        "\n",
        "  aname = \"VAE \" + str(Z_DIM)\n",
        "  X_train_encoded = np.asarray(X_train_encoded)\n",
        "  X_val_encoded = np.asarray(X_val_encoded)\n",
        "  X_test_encoded = np.asarray(X_test_encoded)\n",
        "\n",
        "  for clf, name in classifiers:\n",
        "      clf.fit(X_train_encoded, y_train)\n",
        "      print(aname, name, clf.score(X_train_encoded, y_train), clf.score(X_val_encoded, y_val),\n",
        "            clf.score(X_test_encoded, y_test))\n",
        "      sys.stdout.flush()\n",
        "\n",
        "\n"
      ],
      "execution_count": 0,
      "outputs": []
    },
    {
      "metadata": {
        "id": "FmJP2WYgWCuN",
        "colab_type": "code",
        "colab": {
          "base_uri": "https://localhost:8080/",
          "height": 4284
        },
        "outputId": "1aa60bed-81d9-4b4a-b649-beff15e3ec01"
      },
      "cell_type": "code",
      "source": [
        "for n in [98]:\n",
        "  train_VAE(n, 50000)"
      ],
      "execution_count": 40,
      "outputs": [
        {
          "output_type": "stream",
          "text": [
            "Step 00000 / 50000. Loss: 40866.79.\n",
            "Step 00200 / 50000. Loss: 26547.49.\n",
            "Step 00400 / 50000. Loss: 19350.93.\n",
            "Step 00600 / 50000. Loss: 15822.58.\n",
            "Step 00800 / 50000. Loss: 14385.38.\n",
            "Step 01000 / 50000. Loss: 12093.38.\n",
            "Step 01200 / 50000. Loss: 10068.16.\n",
            "Step 01400 / 50000. Loss: 9696.37.\n",
            "Step 01600 / 50000. Loss: 9778.93.\n",
            "Step 01800 / 50000. Loss: 8317.34.\n",
            "Step 02000 / 50000. Loss: 7426.39.\n",
            "Step 02200 / 50000. Loss: 7426.47.\n",
            "Step 02400 / 50000. Loss: 7621.23.\n",
            "Step 02600 / 50000. Loss: 7323.16.\n",
            "Step 02800 / 50000. Loss: 6629.58.\n",
            "Step 03000 / 50000. Loss: 7269.63.\n",
            "Step 03200 / 50000. Loss: 6244.31.\n",
            "Step 03400 / 50000. Loss: 5979.57.\n",
            "Step 03600 / 50000. Loss: 6344.28.\n",
            "Step 03800 / 50000. Loss: 5954.51.\n",
            "Step 04000 / 50000. Loss: 5461.16.\n",
            "Step 04200 / 50000. Loss: 5551.82.\n",
            "Step 04400 / 50000. Loss: 5398.35.\n",
            "Step 04600 / 50000. Loss: 5413.67.\n",
            "Step 04800 / 50000. Loss: 5532.99.\n",
            "Step 05000 / 50000. Loss: 5087.30.\n",
            "Step 05200 / 50000. Loss: 4672.81.\n",
            "Step 05400 / 50000. Loss: 4900.68.\n",
            "Step 05600 / 50000. Loss: 4998.02.\n",
            "Step 05800 / 50000. Loss: 4463.49.\n",
            "Step 06000 / 50000. Loss: 4429.00.\n",
            "Step 06200 / 50000. Loss: 4501.52.\n",
            "Step 06400 / 50000. Loss: 4683.15.\n",
            "Step 06600 / 50000. Loss: 4118.25.\n",
            "Step 06800 / 50000. Loss: 4298.36.\n",
            "Step 07000 / 50000. Loss: 4215.60.\n",
            "Step 07200 / 50000. Loss: 4131.29.\n",
            "Step 07400 / 50000. Loss: 4095.49.\n",
            "Step 07600 / 50000. Loss: 4110.03.\n",
            "Step 07800 / 50000. Loss: 3840.73.\n",
            "Step 08000 / 50000. Loss: 4147.40.\n",
            "Step 08200 / 50000. Loss: 3672.12.\n",
            "Step 08400 / 50000. Loss: 3791.20.\n",
            "Step 08600 / 50000. Loss: 3760.59.\n",
            "Step 08800 / 50000. Loss: 3859.39.\n",
            "Step 09000 / 50000. Loss: 3828.99.\n",
            "Step 09200 / 50000. Loss: 4192.40.\n",
            "Step 09400 / 50000. Loss: 3454.21.\n",
            "Step 09600 / 50000. Loss: 3621.94.\n",
            "Step 09800 / 50000. Loss: 3504.62.\n",
            "Step 10000 / 50000. Loss: 3565.23.\n",
            "Step 10200 / 50000. Loss: 3406.41.\n",
            "Step 10400 / 50000. Loss: 3389.60.\n",
            "Step 10600 / 50000. Loss: 3201.02.\n",
            "Step 10800 / 50000. Loss: 3350.42.\n",
            "Step 11000 / 50000. Loss: 3328.38.\n",
            "Step 11200 / 50000. Loss: 3201.54.\n",
            "Step 11400 / 50000. Loss: 3202.21.\n",
            "Step 11600 / 50000. Loss: 3075.52.\n",
            "Step 11800 / 50000. Loss: 3412.16.\n",
            "Step 12000 / 50000. Loss: 3130.76.\n",
            "Step 12200 / 50000. Loss: 3337.92.\n",
            "Step 12400 / 50000. Loss: 3039.59.\n",
            "Step 12600 / 50000. Loss: 2931.85.\n",
            "Step 12800 / 50000. Loss: 3024.84.\n",
            "Step 13000 / 50000. Loss: 2935.92.\n",
            "Step 13200 / 50000. Loss: 3033.31.\n",
            "Step 13400 / 50000. Loss: 2674.08.\n",
            "Step 13600 / 50000. Loss: 2842.51.\n",
            "Step 13800 / 50000. Loss: 2839.00.\n",
            "Step 14000 / 50000. Loss: 3298.73.\n",
            "Step 14200 / 50000. Loss: 2706.55.\n",
            "Step 14400 / 50000. Loss: 2771.15.\n",
            "Step 14600 / 50000. Loss: 2910.21.\n"
          ],
          "name": "stdout"
        },
        {
          "output_type": "stream",
          "text": [
            "Step 14800 / 50000. Loss: 2913.46.\n",
            "Step 15000 / 50000. Loss: 2607.76.\n",
            "Step 15200 / 50000. Loss: 2728.85.\n",
            "Step 15400 / 50000. Loss: 2668.12.\n",
            "Step 15600 / 50000. Loss: 2709.65.\n",
            "Step 15800 / 50000. Loss: 2635.79.\n",
            "Step 16000 / 50000. Loss: 2553.37.\n",
            "Step 16200 / 50000. Loss: 2710.49.\n",
            "Step 16400 / 50000. Loss: 2661.21.\n",
            "Step 16600 / 50000. Loss: 2310.09.\n",
            "Step 16800 / 50000. Loss: 2486.62.\n",
            "Step 17000 / 50000. Loss: 2530.72.\n",
            "Step 17200 / 50000. Loss: 2446.19.\n",
            "Step 17400 / 50000. Loss: 2446.72.\n",
            "Step 17600 / 50000. Loss: 2414.42.\n",
            "Step 17800 / 50000. Loss: 2344.35.\n",
            "Step 18000 / 50000. Loss: 2444.55.\n",
            "Step 18200 / 50000. Loss: 2440.83.\n",
            "Step 18400 / 50000. Loss: 2224.67.\n",
            "Step 18600 / 50000. Loss: 2138.72.\n",
            "Step 18800 / 50000. Loss: 2203.48.\n",
            "Step 19000 / 50000. Loss: 1982.36.\n",
            "Step 19200 / 50000. Loss: 2283.67.\n",
            "Step 19400 / 50000. Loss: 2160.69.\n",
            "Step 19600 / 50000. Loss: 2224.81.\n",
            "Step 19800 / 50000. Loss: 2061.95.\n",
            "Step 20000 / 50000. Loss: 2141.88.\n",
            "Step 20200 / 50000. Loss: 2245.95.\n",
            "Step 20400 / 50000. Loss: 2217.50.\n",
            "Step 20600 / 50000. Loss: 2052.06.\n",
            "Step 20800 / 50000. Loss: 2172.02.\n",
            "Step 21000 / 50000. Loss: 2210.31.\n",
            "Step 21200 / 50000. Loss: 2053.52.\n",
            "Step 21400 / 50000. Loss: 2198.88.\n",
            "Step 21600 / 50000. Loss: 2174.05.\n",
            "Step 21800 / 50000. Loss: 2032.65.\n",
            "Step 22000 / 50000. Loss: 2031.18.\n",
            "Step 22200 / 50000. Loss: 1955.70.\n",
            "Step 22400 / 50000. Loss: 2042.32.\n",
            "Step 22600 / 50000. Loss: 2023.65.\n",
            "Step 22800 / 50000. Loss: 2156.59.\n",
            "Step 23000 / 50000. Loss: 1982.97.\n",
            "Step 23200 / 50000. Loss: 2039.95.\n",
            "Step 23400 / 50000. Loss: 1884.94.\n",
            "Step 23600 / 50000. Loss: 1835.25.\n",
            "Step 23800 / 50000. Loss: 1905.82.\n",
            "Step 24000 / 50000. Loss: 1894.52.\n",
            "Step 24200 / 50000. Loss: 1806.29.\n",
            "Step 24400 / 50000. Loss: 1875.49.\n",
            "Step 24600 / 50000. Loss: 1769.56.\n",
            "Step 24800 / 50000. Loss: 1815.55.\n",
            "Step 25000 / 50000. Loss: 1976.78.\n",
            "Step 25200 / 50000. Loss: 2012.49.\n",
            "Step 25400 / 50000. Loss: 1770.48.\n",
            "Step 25600 / 50000. Loss: 1852.77.\n",
            "Step 25800 / 50000. Loss: 1986.40.\n",
            "Step 26000 / 50000. Loss: 1634.49.\n",
            "Step 26200 / 50000. Loss: 1785.57.\n",
            "Step 26400 / 50000. Loss: 1621.77.\n",
            "Step 26600 / 50000. Loss: 1752.49.\n",
            "Step 26800 / 50000. Loss: 1661.57.\n",
            "Step 27000 / 50000. Loss: 1742.02.\n",
            "Step 27200 / 50000. Loss: 1892.15.\n",
            "Step 27400 / 50000. Loss: 1594.62.\n",
            "Step 27600 / 50000. Loss: 1706.70.\n",
            "Step 27800 / 50000. Loss: 1652.41.\n",
            "Step 28000 / 50000. Loss: 1614.74.\n",
            "Step 28200 / 50000. Loss: 1847.01.\n",
            "Step 28400 / 50000. Loss: 1703.66.\n",
            "Step 28600 / 50000. Loss: 1679.19.\n",
            "Step 28800 / 50000. Loss: 1583.26.\n",
            "Step 29000 / 50000. Loss: 1782.14.\n",
            "Step 29200 / 50000. Loss: 1553.38.\n",
            "Step 29400 / 50000. Loss: 1561.54.\n",
            "Step 29600 / 50000. Loss: 1524.99.\n"
          ],
          "name": "stdout"
        },
        {
          "output_type": "stream",
          "text": [
            "Step 29800 / 50000. Loss: 1664.49.\n",
            "Step 30000 / 50000. Loss: 1481.14.\n",
            "Step 30200 / 50000. Loss: 1391.94.\n",
            "Step 30400 / 50000. Loss: 1623.36.\n",
            "Step 30600 / 50000. Loss: 1613.87.\n",
            "Step 30800 / 50000. Loss: 1584.19.\n",
            "Step 31000 / 50000. Loss: 1446.82.\n",
            "Step 31200 / 50000. Loss: 1558.89.\n",
            "Step 31400 / 50000. Loss: 1608.51.\n",
            "Step 31600 / 50000. Loss: 1457.22.\n",
            "Step 31800 / 50000. Loss: 1629.04.\n",
            "Step 32000 / 50000. Loss: 1623.11.\n",
            "Step 32200 / 50000. Loss: 1588.56.\n",
            "Step 32400 / 50000. Loss: 1489.98.\n",
            "Step 32600 / 50000. Loss: 1466.89.\n",
            "Step 32800 / 50000. Loss: 1597.23.\n",
            "Step 33000 / 50000. Loss: 1400.97.\n",
            "Step 33200 / 50000. Loss: 1496.60.\n",
            "Step 33400 / 50000. Loss: 1430.40.\n",
            "Step 33600 / 50000. Loss: 1494.91.\n",
            "Step 33800 / 50000. Loss: 1495.17.\n",
            "Step 34000 / 50000. Loss: 1570.33.\n",
            "Step 34200 / 50000. Loss: 1566.38.\n",
            "Step 34400 / 50000. Loss: 1316.03.\n",
            "Step 34600 / 50000. Loss: 1429.21.\n",
            "Step 34800 / 50000. Loss: 1416.99.\n",
            "Step 35000 / 50000. Loss: 1409.69.\n",
            "Step 35200 / 50000. Loss: 1347.00.\n",
            "Step 35400 / 50000. Loss: 1493.74.\n",
            "Step 35600 / 50000. Loss: 1309.82.\n",
            "Step 35800 / 50000. Loss: 1491.31.\n",
            "Step 36000 / 50000. Loss: 1296.61.\n",
            "Step 36200 / 50000. Loss: 1422.88.\n",
            "Step 36400 / 50000. Loss: 1318.53.\n",
            "Step 36600 / 50000. Loss: 1320.30.\n",
            "Step 36800 / 50000. Loss: 1419.53.\n",
            "Step 37000 / 50000. Loss: 1308.36.\n",
            "Step 37200 / 50000. Loss: 1551.82.\n",
            "Step 37400 / 50000. Loss: 1423.63.\n",
            "Step 37600 / 50000. Loss: 1369.92.\n",
            "Step 37800 / 50000. Loss: 1437.34.\n",
            "Step 38000 / 50000. Loss: 1404.46.\n",
            "Step 38200 / 50000. Loss: 1182.26.\n",
            "Step 38400 / 50000. Loss: 1392.41.\n",
            "Step 38600 / 50000. Loss: 1260.90.\n",
            "Step 38800 / 50000. Loss: 1209.99.\n",
            "Step 39000 / 50000. Loss: 1380.71.\n",
            "Step 39200 / 50000. Loss: 1283.08.\n",
            "Step 39400 / 50000. Loss: 1416.97.\n",
            "Step 39600 / 50000. Loss: 1305.22.\n",
            "Step 39800 / 50000. Loss: 1395.77.\n",
            "Step 40000 / 50000. Loss: 1355.21.\n",
            "Step 40200 / 50000. Loss: 1349.75.\n",
            "Step 40400 / 50000. Loss: 1192.00.\n",
            "Step 40600 / 50000. Loss: 1365.67.\n",
            "Step 40800 / 50000. Loss: 1235.59.\n",
            "Step 41000 / 50000. Loss: 1393.07.\n",
            "Step 41200 / 50000. Loss: 1339.47.\n",
            "Step 41400 / 50000. Loss: 1299.31.\n",
            "Step 41600 / 50000. Loss: 1366.44.\n",
            "Step 41800 / 50000. Loss: 1317.26.\n",
            "Step 42000 / 50000. Loss: 1256.03.\n",
            "Step 42200 / 50000. Loss: 1249.48.\n",
            "Step 42400 / 50000. Loss: 1120.47.\n",
            "Step 42600 / 50000. Loss: 1100.94.\n",
            "Step 42800 / 50000. Loss: 1361.73.\n",
            "Step 43000 / 50000. Loss: 1118.15.\n",
            "Step 43200 / 50000. Loss: 1216.68.\n",
            "Step 43400 / 50000. Loss: 1144.32.\n",
            "Step 43600 / 50000. Loss: 1308.09.\n",
            "Step 43800 / 50000. Loss: 1258.61.\n",
            "Step 44000 / 50000. Loss: 1225.48.\n",
            "Step 44200 / 50000. Loss: 1036.99.\n",
            "Step 44400 / 50000. Loss: 1175.57.\n",
            "Step 44600 / 50000. Loss: 1292.74.\n"
          ],
          "name": "stdout"
        },
        {
          "output_type": "stream",
          "text": [
            "Step 44800 / 50000. Loss: 1267.57.\n",
            "Step 45000 / 50000. Loss: 1100.03.\n",
            "Step 45200 / 50000. Loss: 1068.83.\n",
            "Step 45400 / 50000. Loss: 1294.42.\n",
            "Step 45600 / 50000. Loss: 1177.34.\n",
            "Step 45800 / 50000. Loss: 1296.52.\n",
            "Step 46000 / 50000. Loss: 1202.45.\n",
            "Step 46200 / 50000. Loss: 1095.74.\n",
            "Step 46400 / 50000. Loss: 1137.08.\n",
            "Step 46600 / 50000. Loss: 1138.06.\n",
            "Step 46800 / 50000. Loss: 1254.92.\n",
            "Step 47000 / 50000. Loss: 1228.92.\n",
            "Step 47200 / 50000. Loss: 986.78.\n",
            "Step 47400 / 50000. Loss: 1103.40.\n",
            "Step 47600 / 50000. Loss: 1188.51.\n",
            "Step 47800 / 50000. Loss: 1172.36.\n",
            "Step 48000 / 50000. Loss: 1140.50.\n",
            "Step 48200 / 50000. Loss: 1038.67.\n",
            "Step 48400 / 50000. Loss: 1065.75.\n",
            "Step 48600 / 50000. Loss: 1026.82.\n",
            "Step 48800 / 50000. Loss: 1148.22.\n",
            "Step 49000 / 50000. Loss: 996.41.\n",
            "Step 49200 / 50000. Loss: 1123.08.\n",
            "Step 49400 / 50000. Loss: 1036.64.\n",
            "Step 49600 / 50000. Loss: 1088.54.\n",
            "Step 49800 / 50000. Loss: 1065.58.\n",
            "VAE 98 QDA 1.0 1.0 0.8750697155605132\n"
          ],
          "name": "stdout"
        }
      ]
    },
    {
      "metadata": {
        "id": "MHCEagNmS5tA",
        "colab_type": "text"
      },
      "cell_type": "markdown",
      "source": [
        "### Visualize generated images as we traverse $\\zb$ space from one image to another"
      ]
    },
    {
      "metadata": {
        "id": "QSwjVABFqVGa",
        "colab_type": "code",
        "colab": {
          "base_uri": "https://localhost:8080/",
          "height": 235
        },
        "outputId": "0d33ffab-3064-4674-9da0-2f34ed311db4"
      },
      "cell_type": "code",
      "source": [
        "samples = batch(10, X_train.astype(np.float32))\n",
        "\n",
        "mu_z, sigma_z = encoder(samples)\n",
        "z = encoder.rsample(mu_z, sigma_z)\n",
        "mu_x, sigma_x = decoder(z)\n",
        "\n",
        "samples = samples.view(-1, HEIGHT, WIDTH).data.cpu().numpy()\n",
        "samples = np.concatenate(samples, axis=1)\n",
        "mu_x = mu_x.view(-1, HEIGHT, WIDTH).data.cpu().numpy()\n",
        "mu_x = np.concatenate(mu_x, axis=1)\n",
        "plt.figure(figsize=(15, 5))\n",
        "plt.set_cmap('gray')\n",
        "plt.imshow(np.concatenate([samples, mu_x], axis=0))"
      ],
      "execution_count": 45,
      "outputs": [
        {
          "output_type": "execute_result",
          "data": {
            "text/plain": [
              "<matplotlib.image.AxesImage at 0x7f7b7d3e2fd0>"
            ]
          },
          "metadata": {
            "tags": []
          },
          "execution_count": 45
        },
        {
          "output_type": "display_data",
          "data": {
            "image/png": "[encoded data removed]",
            "text/plain": [
              "<matplotlib.figure.Figure at 0x7f7b7d4ccb70>"
            ]
          },
          "metadata": {
            "tags": []
          }
        }
      ]
    },
    {
      "metadata": {
        "id": "HebI_s-aWxT0",
        "colab_type": "code",
        "colab": {
          "base_uri": "https://localhost:8080/",
          "height": 213
        },
        "outputId": "848b5ad6-d490-4da6-f080-134b8542104f"
      },
      "cell_type": "code",
      "source": [
        "z_1 = z[1] \n",
        "z_7 = z[2] \n",
        "mixture_coefs = Variable(torch.arange(0.0, 1.0, 0.1).cuda()).view(-1, 1)\n",
        "z_interp = (1.0 - mixture_coefs)**.5 * z_1 + mixture_coefs**.5 * z_7\n",
        "mu_x, sigma_x = decoder(z_interp) \n",
        "mu_x = mu_x.view(-1, HEIGHT, WIDTH).data.cpu().numpy() \n",
        "mu_x = np.concatenate(mu_x, axis=1) \n",
        "plt.figure(figsize=(25, 5))\n",
        "plt.set_cmap('gray')\n",
        "plt.imshow(mu_x)"
      ],
      "execution_count": 44,
      "outputs": [
        {
          "output_type": "execute_result",
          "data": {
            "text/plain": [
              "<matplotlib.image.AxesImage at 0x7f7b7d40f128>"
            ]
          },
          "metadata": {
            "tags": []
          },
          "execution_count": 44
        },
        {
          "output_type": "display_data",
          "data": {
            "image/png": "[encoded data removed]",
            "text/plain": [
              "<matplotlib.figure.Figure at 0x7f7b816e75f8>"
            ]
          },
          "metadata": {
            "tags": []
          }
        }
      ]
    },
    {
      "metadata": {
        "id": "UHQRPwgOU7wZ",
        "colab_type": "code",
        "colab": {}
      },
      "cell_type": "code",
      "source": [
        ""
      ],
      "execution_count": 0,
      "outputs": []
    }
  ]
}